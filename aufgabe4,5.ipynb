{
 "cells": [
  {
   "cell_type": "code",
   "execution_count": 1,
   "id": "8ba333bb",
   "metadata": {},
   "outputs": [],
   "source": [
    "import pandas as pd\n",
    "import seaborn as sns\n",
    "import matplotlib.pyplot as plt\n",
    "import os\n",
    "import numpy as np\n",
    "from pandas.core.frame import DataFrame\n",
    "from sklearn.model_selection import train_test_split\n",
    "import random"
   ]
  },
  {
   "cell_type": "code",
   "execution_count": 2,
   "id": "253e2523",
   "metadata": {},
   "outputs": [],
   "source": [
    "df = pd.read_csv('the_whole_data.csv') #read the previous dataframe"
   ]
  },
  {
   "cell_type": "code",
   "execution_count": 3,
   "id": "4d1f6da8",
   "metadata": {},
   "outputs": [],
   "source": [
    "df = df[['mean_hori', 'mean_ver', 'median_hori', 'median_ver', 'state']]"
   ]
  },
  {
   "cell_type": "code",
   "execution_count": 4,
   "id": "8e49c656",
   "metadata": {},
   "outputs": [
    {
     "data": {
      "text/html": [
       "<div>\n",
       "<style scoped>\n",
       "    .dataframe tbody tr th:only-of-type {\n",
       "        vertical-align: middle;\n",
       "    }\n",
       "\n",
       "    .dataframe tbody tr th {\n",
       "        vertical-align: top;\n",
       "    }\n",
       "\n",
       "    .dataframe thead th {\n",
       "        text-align: right;\n",
       "    }\n",
       "</style>\n",
       "<table border=\"1\" class=\"dataframe\">\n",
       "  <thead>\n",
       "    <tr style=\"text-align: right;\">\n",
       "      <th></th>\n",
       "      <th>mean_hori</th>\n",
       "      <th>mean_ver</th>\n",
       "      <th>median_hori</th>\n",
       "      <th>median_ver</th>\n",
       "      <th>state</th>\n",
       "    </tr>\n",
       "  </thead>\n",
       "  <tbody>\n",
       "    <tr>\n",
       "      <th>0</th>\n",
       "      <td>0.006363</td>\n",
       "      <td>0.001671</td>\n",
       "      <td>0.003</td>\n",
       "      <td>0.014</td>\n",
       "      <td>0</td>\n",
       "    </tr>\n",
       "    <tr>\n",
       "      <th>1</th>\n",
       "      <td>-0.009000</td>\n",
       "      <td>0.006691</td>\n",
       "      <td>-0.013</td>\n",
       "      <td>0.012</td>\n",
       "      <td>0</td>\n",
       "    </tr>\n",
       "    <tr>\n",
       "      <th>2</th>\n",
       "      <td>-0.006220</td>\n",
       "      <td>-0.008295</td>\n",
       "      <td>-0.011</td>\n",
       "      <td>0.005</td>\n",
       "      <td>0</td>\n",
       "    </tr>\n",
       "    <tr>\n",
       "      <th>3</th>\n",
       "      <td>-0.005819</td>\n",
       "      <td>-0.001751</td>\n",
       "      <td>0.002</td>\n",
       "      <td>0.009</td>\n",
       "      <td>0</td>\n",
       "    </tr>\n",
       "    <tr>\n",
       "      <th>4</th>\n",
       "      <td>-0.002016</td>\n",
       "      <td>0.006631</td>\n",
       "      <td>-0.009</td>\n",
       "      <td>0.002</td>\n",
       "      <td>0</td>\n",
       "    </tr>\n",
       "    <tr>\n",
       "      <th>...</th>\n",
       "      <td>...</td>\n",
       "      <td>...</td>\n",
       "      <td>...</td>\n",
       "      <td>...</td>\n",
       "      <td>...</td>\n",
       "    </tr>\n",
       "    <tr>\n",
       "      <th>13020</th>\n",
       "      <td>-0.039199</td>\n",
       "      <td>0.003162</td>\n",
       "      <td>0.008</td>\n",
       "      <td>-0.008</td>\n",
       "      <td>2</td>\n",
       "    </tr>\n",
       "    <tr>\n",
       "      <th>13021</th>\n",
       "      <td>-0.029962</td>\n",
       "      <td>-0.002062</td>\n",
       "      <td>0.022</td>\n",
       "      <td>-0.023</td>\n",
       "      <td>2</td>\n",
       "    </tr>\n",
       "    <tr>\n",
       "      <th>13022</th>\n",
       "      <td>-0.056482</td>\n",
       "      <td>0.050883</td>\n",
       "      <td>-0.036</td>\n",
       "      <td>-0.032</td>\n",
       "      <td>2</td>\n",
       "    </tr>\n",
       "    <tr>\n",
       "      <th>13023</th>\n",
       "      <td>0.013096</td>\n",
       "      <td>0.028659</td>\n",
       "      <td>0.059</td>\n",
       "      <td>-0.050</td>\n",
       "      <td>2</td>\n",
       "    </tr>\n",
       "    <tr>\n",
       "      <th>13024</th>\n",
       "      <td>0.049246</td>\n",
       "      <td>0.004728</td>\n",
       "      <td>0.109</td>\n",
       "      <td>-0.042</td>\n",
       "      <td>2</td>\n",
       "    </tr>\n",
       "  </tbody>\n",
       "</table>\n",
       "<p>13025 rows × 5 columns</p>\n",
       "</div>"
      ],
      "text/plain": [
       "       mean_hori  mean_ver  median_hori  median_ver  state\n",
       "0       0.006363  0.001671        0.003       0.014      0\n",
       "1      -0.009000  0.006691       -0.013       0.012      0\n",
       "2      -0.006220 -0.008295       -0.011       0.005      0\n",
       "3      -0.005819 -0.001751        0.002       0.009      0\n",
       "4      -0.002016  0.006631       -0.009       0.002      0\n",
       "...          ...       ...          ...         ...    ...\n",
       "13020  -0.039199  0.003162        0.008      -0.008      2\n",
       "13021  -0.029962 -0.002062        0.022      -0.023      2\n",
       "13022  -0.056482  0.050883       -0.036      -0.032      2\n",
       "13023   0.013096  0.028659        0.059      -0.050      2\n",
       "13024   0.049246  0.004728        0.109      -0.042      2\n",
       "\n",
       "[13025 rows x 5 columns]"
      ]
     },
     "execution_count": 4,
     "metadata": {},
     "output_type": "execute_result"
    }
   ],
   "source": [
    "df #check the whole data which will be used in classification"
   ]
  },
  {
   "cell_type": "code",
   "execution_count": 5,
   "id": "c6754c0a",
   "metadata": {},
   "outputs": [
    {
     "data": {
      "text/plain": [
       "1    9116\n",
       "0    1959\n",
       "2    1950\n",
       "Name: state, dtype: int64"
      ]
     },
     "execution_count": 5,
     "metadata": {},
     "output_type": "execute_result"
    }
   ],
   "source": [
    "df['state'].value_counts() #check the distribution of data"
   ]
  },
  {
   "cell_type": "code",
   "execution_count": 6,
   "id": "9f887596",
   "metadata": {},
   "outputs": [],
   "source": [
    "df.loc[df['state'] == 0, 'state'] = 1 #let label 0 be equal to label 1\n",
    "df['state'].value_counts()"
   ]
  },
  {
   "cell_type": "code",
   "execution_count": 8,
   "id": "4808f56a",
   "metadata": {},
   "outputs": [],
   "source": [
    "df['state'] = df['state'].values - 1 #transform the label(1,2) to label(0,1), that will be suitable for classifying."
   ]
  },
  {
   "cell_type": "code",
   "execution_count": 9,
   "id": "106f28c0",
   "metadata": {},
   "outputs": [
    {
     "data": {
      "text/html": [
       "<div>\n",
       "<style scoped>\n",
       "    .dataframe tbody tr th:only-of-type {\n",
       "        vertical-align: middle;\n",
       "    }\n",
       "\n",
       "    .dataframe tbody tr th {\n",
       "        vertical-align: top;\n",
       "    }\n",
       "\n",
       "    .dataframe thead th {\n",
       "        text-align: right;\n",
       "    }\n",
       "</style>\n",
       "<table border=\"1\" class=\"dataframe\">\n",
       "  <thead>\n",
       "    <tr style=\"text-align: right;\">\n",
       "      <th></th>\n",
       "      <th>mean_hori</th>\n",
       "      <th>mean_ver</th>\n",
       "      <th>median_hori</th>\n",
       "      <th>median_ver</th>\n",
       "      <th>state</th>\n",
       "    </tr>\n",
       "  </thead>\n",
       "  <tbody>\n",
       "    <tr>\n",
       "      <th>0</th>\n",
       "      <td>0.006363</td>\n",
       "      <td>0.001671</td>\n",
       "      <td>0.003</td>\n",
       "      <td>0.014</td>\n",
       "      <td>0</td>\n",
       "    </tr>\n",
       "    <tr>\n",
       "      <th>1</th>\n",
       "      <td>-0.009000</td>\n",
       "      <td>0.006691</td>\n",
       "      <td>-0.013</td>\n",
       "      <td>0.012</td>\n",
       "      <td>0</td>\n",
       "    </tr>\n",
       "    <tr>\n",
       "      <th>2</th>\n",
       "      <td>-0.006220</td>\n",
       "      <td>-0.008295</td>\n",
       "      <td>-0.011</td>\n",
       "      <td>0.005</td>\n",
       "      <td>0</td>\n",
       "    </tr>\n",
       "    <tr>\n",
       "      <th>3</th>\n",
       "      <td>-0.005819</td>\n",
       "      <td>-0.001751</td>\n",
       "      <td>0.002</td>\n",
       "      <td>0.009</td>\n",
       "      <td>0</td>\n",
       "    </tr>\n",
       "    <tr>\n",
       "      <th>4</th>\n",
       "      <td>-0.002016</td>\n",
       "      <td>0.006631</td>\n",
       "      <td>-0.009</td>\n",
       "      <td>0.002</td>\n",
       "      <td>0</td>\n",
       "    </tr>\n",
       "    <tr>\n",
       "      <th>...</th>\n",
       "      <td>...</td>\n",
       "      <td>...</td>\n",
       "      <td>...</td>\n",
       "      <td>...</td>\n",
       "      <td>...</td>\n",
       "    </tr>\n",
       "    <tr>\n",
       "      <th>13020</th>\n",
       "      <td>-0.039199</td>\n",
       "      <td>0.003162</td>\n",
       "      <td>0.008</td>\n",
       "      <td>-0.008</td>\n",
       "      <td>1</td>\n",
       "    </tr>\n",
       "    <tr>\n",
       "      <th>13021</th>\n",
       "      <td>-0.029962</td>\n",
       "      <td>-0.002062</td>\n",
       "      <td>0.022</td>\n",
       "      <td>-0.023</td>\n",
       "      <td>1</td>\n",
       "    </tr>\n",
       "    <tr>\n",
       "      <th>13022</th>\n",
       "      <td>-0.056482</td>\n",
       "      <td>0.050883</td>\n",
       "      <td>-0.036</td>\n",
       "      <td>-0.032</td>\n",
       "      <td>1</td>\n",
       "    </tr>\n",
       "    <tr>\n",
       "      <th>13023</th>\n",
       "      <td>0.013096</td>\n",
       "      <td>0.028659</td>\n",
       "      <td>0.059</td>\n",
       "      <td>-0.050</td>\n",
       "      <td>1</td>\n",
       "    </tr>\n",
       "    <tr>\n",
       "      <th>13024</th>\n",
       "      <td>0.049246</td>\n",
       "      <td>0.004728</td>\n",
       "      <td>0.109</td>\n",
       "      <td>-0.042</td>\n",
       "      <td>1</td>\n",
       "    </tr>\n",
       "  </tbody>\n",
       "</table>\n",
       "<p>13025 rows × 5 columns</p>\n",
       "</div>"
      ],
      "text/plain": [
       "       mean_hori  mean_ver  median_hori  median_ver  state\n",
       "0       0.006363  0.001671        0.003       0.014      0\n",
       "1      -0.009000  0.006691       -0.013       0.012      0\n",
       "2      -0.006220 -0.008295       -0.011       0.005      0\n",
       "3      -0.005819 -0.001751        0.002       0.009      0\n",
       "4      -0.002016  0.006631       -0.009       0.002      0\n",
       "...          ...       ...          ...         ...    ...\n",
       "13020  -0.039199  0.003162        0.008      -0.008      1\n",
       "13021  -0.029962 -0.002062        0.022      -0.023      1\n",
       "13022  -0.056482  0.050883       -0.036      -0.032      1\n",
       "13023   0.013096  0.028659        0.059      -0.050      1\n",
       "13024   0.049246  0.004728        0.109      -0.042      1\n",
       "\n",
       "[13025 rows x 5 columns]"
      ]
     },
     "execution_count": 9,
     "metadata": {},
     "output_type": "execute_result"
    }
   ],
   "source": [
    "df #check the final dataframe"
   ]
  },
  {
   "cell_type": "code",
   "execution_count": 10,
   "id": "daf07bd6",
   "metadata": {},
   "outputs": [],
   "source": [
    "X = df[['mean_hori', 'mean_ver', 'median_hori', 'median_ver']]  #define x as features, y as label\n",
    "Y = df['state']"
   ]
  },
  {
   "cell_type": "code",
   "execution_count": 11,
   "id": "9a4bef16",
   "metadata": {},
   "outputs": [],
   "source": [
    "X_train, X_test, y_train, y_test = train_test_split(X, Y, test_size=0.2, random_state=2, shuffle = True) \n",
    "#split the data into two set, one is for training, other is for validation or testing."
   ]
  },
  {
   "cell_type": "code",
   "execution_count": 12,
   "id": "6eb54886",
   "metadata": {},
   "outputs": [],
   "source": [
    "from sklearn import svm\n",
    "from sklearn import metrics\n",
    "from sklearn.model_selection import learning_curve\n",
    "from sklearn.svm import SVC  \n",
    "import numpy as np\n",
    "from sklearn.model_selection import GridSearchCV\n",
    "from sklearn.ensemble import RandomForestClassifier\n",
    "from sklearn.ensemble import GradientBoostingClassifier\n",
    "import tensorflow as tf\n",
    "from tensorflow.keras.layers import Dense, Input, BatchNormalization,Dropout\n",
    "from tensorflow.keras.models import Model, Sequential"
   ]
  },
  {
   "cell_type": "code",
   "execution_count": 13,
   "id": "22974133",
   "metadata": {},
   "outputs": [],
   "source": [
    "def hyperparameter_svm(parameters):  #use gridsearch to find the optimal hyperparameters of svm model\n",
    "    svc = svm.SVC()\n",
    "    model = GridSearchCV(svc,parameters,cv=5,scoring='accuracy')\n",
    "    model.fit(X_train,y_train)\n",
    "    test_score = model.score(X_test,y_test)\n",
    "    train_score = model.score(X_train,y_train)\n",
    "    print('train_score', train_score, '\\n', 'test_score', test_score)\n",
    "    return model.best_params_"
   ]
  },
  {
   "cell_type": "code",
   "execution_count": 15,
   "id": "a3b03068",
   "metadata": {},
   "outputs": [
    {
     "name": "stdout",
     "output_type": "stream",
     "text": [
      "train_score 0.860172744721689 \n",
      " test_score 0.8694817658349329\n"
     ]
    }
   ],
   "source": [
    "parameters={'kernel':['rbf','sigmoid','linear']} # find optimal hyperparameter 'kernel'\n",
    "best_params_svm = hyperparameter_svm(parameters)"
   ]
  },
  {
   "cell_type": "code",
   "execution_count": 16,
   "id": "523230b9",
   "metadata": {},
   "outputs": [
    {
     "name": "stdout",
     "output_type": "stream",
     "text": [
      "train_score 0.8585412667946257 \n",
      " test_score 0.8690978886756238\n"
     ]
    }
   ],
   "source": [
    "parameters={'kernel':[best_params_svm['kernel']], 'gamma':np.linspace(1,100,10)} #find optimal 'gamma'\n",
    "best_params_svm = hyperparameter_svm(parameters)"
   ]
  },
  {
   "cell_type": "code",
   "execution_count": 17,
   "id": "00d09cc2",
   "metadata": {},
   "outputs": [
    {
     "name": "stdout",
     "output_type": "stream",
     "text": [
      "train_score 0.8589251439539347 \n",
      " test_score 0.8690978886756238\n"
     ]
    }
   ],
   "source": [
    "parameters={'kernel':[best_params_svm['kernel']], 'gamma':[best_params_svm['gamma']], 'C':np.linspace(0.1,20,10)}\n",
    "#find optimal 'C'\n",
    "best_params_svm = hyperparameter_svm(parameters)"
   ]
  },
  {
   "cell_type": "code",
   "execution_count": 18,
   "id": "af325efe",
   "metadata": {},
   "outputs": [],
   "source": [
    "def svm_scores(best_params):  #print the result(accuracy, recall, precision,f1score) of the optimized model\n",
    "    C = best_params['C']\n",
    "    gamma = best_params['gamma']\n",
    "    kernel = best_params['kernel']\n",
    "    clf = svm.SVC(C = C, gamma = gamma, kernel = kernel)\n",
    "    clf.fit(X_train, y_train)\n",
    "    y_pred = clf.predict(X_test)\n",
    "    acc = metrics.accuracy_score(y_test, y_pred)\n",
    "    recall = metrics.recall_score(y_test, y_pred)\n",
    "    precision = metrics.precision_score(y_test, y_pred)\n",
    "    F1 = metrics.f1_score(y_test, y_pred)\n",
    "    print(\"accuracy:\",  acc, '\\n', \"precision:\", precision, '\\n', \"recall:\", recall, '\\n', \"F1 :\",  F1)"
   ]
  },
  {
   "cell_type": "code",
   "execution_count": 19,
   "id": "0ec2e3e2",
   "metadata": {},
   "outputs": [
    {
     "name": "stdout",
     "output_type": "stream",
     "text": [
      "accuracy: 0.8690978886756238 \n",
      " precision: 0.8292682926829268 \n",
      " recall: 0.09239130434782608 \n",
      " F1 : 0.16625916870415647\n"
     ]
    }
   ],
   "source": [
    "svm_scores(best_params_svm)"
   ]
  },
  {
   "cell_type": "code",
   "execution_count": 20,
   "id": "1892e655",
   "metadata": {},
   "outputs": [],
   "source": [
    "def hyperparameter_rf(parameters):  #use gridsearch to find the optimal hyperparameters of rf model\n",
    "    rfc = RandomForestClassifier()\n",
    "    model1 = GridSearchCV(rfc,parameters,cv = 5, scoring='accuracy')\n",
    "    model1.fit(X_train,y_train)\n",
    "    test_score = model1.score(X_test,y_test)\n",
    "    train_score = model1.score(X_train,y_train)\n",
    "    print('train_score', train_score, '\\n', 'test_score', test_score)\n",
    "    return model1.best_params_"
   ]
  },
  {
   "cell_type": "code",
   "execution_count": 21,
   "id": "0e93beb7",
   "metadata": {},
   "outputs": [
    {
     "name": "stdout",
     "output_type": "stream",
     "text": [
      "train_score 0.9999040307101728 \n",
      " test_score 0.8679462571976967\n"
     ]
    }
   ],
   "source": [
    "parameters  = {'n_estimators': range(1,101,10)}  #find optimal 'n_estimators', but there exists overfitting\n",
    "best_params_rf = hyperparameter_rf(parameters)"
   ]
  },
  {
   "cell_type": "code",
   "execution_count": 22,
   "id": "bb6b1aef",
   "metadata": {},
   "outputs": [
    {
     "name": "stdout",
     "output_type": "stream",
     "text": [
      "train_score 0.8603646833013435 \n",
      " test_score 0.8694817658349329\n"
     ]
    }
   ],
   "source": [
    "parameters  = {'n_estimators': [best_params_rf['n_estimators']], 'min_samples_leaf': range(1,51,10)}\n",
    "#because of overfitting, optimize 'min_samples_leaf' to reduce overfitting.\n",
    "best_params_rf = hyperparameter_rf(parameters)"
   ]
  },
  {
   "cell_type": "code",
   "execution_count": 23,
   "id": "dd6bcb77",
   "metadata": {},
   "outputs": [],
   "source": [
    "def rfc_scores(best_params):  #print the result(accuracy, recall, precision,f1score) of the optimized model\n",
    "    n_estimators = best_params['n_estimators']\n",
    "    min_samples_leaf = best_params['min_samples_leaf']\n",
    "    rfc = RandomForestClassifier(n_estimators = n_estimators,min_samples_leaf = min_samples_leaf )\n",
    "    rfc.fit(X_train, y_train)\n",
    "    y_pred = rfc.predict(X_test)\n",
    "    acc = metrics.accuracy_score(y_test, y_pred)\n",
    "    recall = metrics.recall_score(y_test, y_pred)\n",
    "    precision = metrics.precision_score(y_test, y_pred)\n",
    "    F1 = metrics.f1_score(y_test, y_pred)\n",
    "    print(\"accuracy:\",  acc, '\\n', \"precision:\", precision, '\\n', \"recall:\", recall, '\\n', \"F1 :\",  F1)"
   ]
  },
  {
   "cell_type": "code",
   "execution_count": 24,
   "id": "0d2cab80",
   "metadata": {},
   "outputs": [
    {
     "name": "stdout",
     "output_type": "stream",
     "text": [
      "accuracy: 0.8706333973128599 \n",
      " precision: 0.8297872340425532 \n",
      " recall: 0.10597826086956522 \n",
      " F1 : 0.18795180722891566\n"
     ]
    }
   ],
   "source": [
    "rfc_scores(best_params_rf)"
   ]
  },
  {
   "cell_type": "code",
   "execution_count": 25,
   "id": "913e7c96",
   "metadata": {},
   "outputs": [],
   "source": [
    "def hyperparameter_gbc(parameters):   #use gridsearch to find the optimal hyperparameters of gbc model\n",
    "    gbc = GradientBoostingClassifier()\n",
    "    model = GridSearchCV(gbc,parameters,cv=5,scoring='accuracy')\n",
    "    model.fit(X_train,y_train)\n",
    "    test_score = model.score(X_test,y_test)\n",
    "    train_score = model.score(X_train,y_train)\n",
    "    print('train_score', train_score, '\\n', 'test_score', test_score)\n",
    "    return model.best_params_"
   ]
  },
  {
   "cell_type": "code",
   "execution_count": 26,
   "id": "34295c95",
   "metadata": {},
   "outputs": [
    {
     "name": "stdout",
     "output_type": "stream",
     "text": [
      "train_score 0.8629558541266794 \n",
      " test_score 0.8714011516314779\n"
     ]
    }
   ],
   "source": [
    "parameters = {'learning_rate':[0.01, 0.1], 'n_estimators': range(1,101,10)} #find optimal 'learning_rate' and 'n_estimators'\n",
    "best_params_gbc = hyperparameter_gbc(parameters)"
   ]
  },
  {
   "cell_type": "code",
   "execution_count": 27,
   "id": "ea560d18",
   "metadata": {},
   "outputs": [
    {
     "name": "stdout",
     "output_type": "stream",
     "text": [
      "train_score 0.863147792706334 \n",
      " test_score 0.8694817658349329\n"
     ]
    }
   ],
   "source": [
    "parameters = {'learning_rate':[best_params_gbc['learning_rate']],  #find optimal 'min_samples_leaf'\n",
    "              'n_estimators': [best_params_gbc['n_estimators']],\n",
    "              'min_samples_leaf': range(1,51,10)}\n",
    "best_params_gbc = hyperparameter_gbc(parameters)"
   ]
  },
  {
   "cell_type": "code",
   "execution_count": 34,
   "id": "646ff8e9",
   "metadata": {},
   "outputs": [],
   "source": [
    "def gbc_scores(best_params):  #print the result(accuracy, recall, precision,f1score) of the optimized model\n",
    "    n_estimators = best_params['n_estimators']\n",
    "    learning_rate = best_params['learning_rate']\n",
    "    min_samples_leaf = best_params['min_samples_leaf']\n",
    "    gbc = GradientBoostingClassifier(n_estimators = n_estimators, learning_rate = learning_rate, \n",
    "                                     min_samples_leaf = min_samples_leaf)\n",
    "    gbc.fit(X_train, y_train)\n",
    "    y_pred = gbc.predict(X_test)\n",
    "    acc = metrics.accuracy_score(y_test, y_pred)\n",
    "    recall = metrics.recall_score(y_test, y_pred)\n",
    "    precision = metrics.precision_score(y_test, y_pred)\n",
    "    F1 = metrics.f1_score(y_test, y_pred)\n",
    "    print(\"accuracy:\",  acc, '\\n', \"precision:\", precision, '\\n', \"recall:\", recall, '\\n', \"F1 :\",  F1)"
   ]
  },
  {
   "cell_type": "code",
   "execution_count": 35,
   "id": "3ee7f620",
   "metadata": {},
   "outputs": [
    {
     "name": "stdout",
     "output_type": "stream",
     "text": [
      "accuracy: 0.8694817658349329 \n",
      " precision: 0.75 \n",
      " recall: 0.11413043478260869 \n",
      " F1 : 0.1981132075471698\n"
     ]
    }
   ],
   "source": [
    "gbc_scores(best_params_gbc)"
   ]
  },
  {
   "cell_type": "code",
   "execution_count": 30,
   "id": "33148bd8",
   "metadata": {},
   "outputs": [],
   "source": [
    "def nn_model(X_train, y_train, X_test, y_test):  #define the structure of nn model using keras model\n",
    "    input_shape = X_train.shape[1]\n",
    "    input = Input(shape = (input_shape, ))\n",
    "    x = Dense(1024, activation = 'relu')(input)\n",
    "    x = Dense(512, activation = 'relu')(x)\n",
    "    x = Dense(256, activation = 'relu')(x)\n",
    "    x = Dense(128, activation = 'relu')(x)\n",
    "    x = Dense(64, activation = 'relu')(x)\n",
    "    x = Dense(32, activation = 'relu')(x)\n",
    "    x = Dense(16, activation = 'relu')(x)\n",
    "    x = Dense(8, activation = 'tanh')(x)\n",
    "    output = Dense(2, activation = 'softmax')(x)\n",
    "    \n",
    "    nn = Model(input,output)\n",
    "    nn.compile(optimizer = tf.keras.optimizers.Adam(lr = 5e-4), \n",
    "               loss= 'sparse_categorical_crossentropy', metrics = ['acc'])\n",
    "    nn.fit(X_train, y_train, epochs = 30, batch_size = 24, shuffle =True,validation_data = (X_test, y_test))\n",
    "    return nn"
   ]
  },
  {
   "cell_type": "code",
   "execution_count": 31,
   "id": "735020f7",
   "metadata": {},
   "outputs": [
    {
     "name": "stdout",
     "output_type": "stream",
     "text": [
      "Metal device set to: Apple M1 Pro\n"
     ]
    },
    {
     "name": "stderr",
     "output_type": "stream",
     "text": [
      "2023-01-30 22:10:42.651480: I tensorflow/core/common_runtime/pluggable_device/pluggable_device_factory.cc:306] Could not identify NUMA node of platform GPU ID 0, defaulting to 0. Your kernel may not have been built with NUMA support.\n",
      "2023-01-30 22:10:42.651603: I tensorflow/core/common_runtime/pluggable_device/pluggable_device_factory.cc:272] Created TensorFlow device (/job:localhost/replica:0/task:0/device:GPU:0 with 0 MB memory) -> physical PluggableDevice (device: 0, name: METAL, pci bus id: <undefined>)\n",
      "/Users/njxwq/miniforge3/envs/ms01/lib/python3.9/site-packages/keras/optimizers/optimizer_v2/adam.py:114: UserWarning: The `lr` argument is deprecated, use `learning_rate` instead.\n",
      "  super().__init__(name, **kwargs)\n"
     ]
    },
    {
     "name": "stdout",
     "output_type": "stream",
     "text": [
      "Epoch 1/30\n"
     ]
    },
    {
     "name": "stderr",
     "output_type": "stream",
     "text": [
      "2023-01-30 22:10:42.909456: W tensorflow/core/platform/profile_utils/cpu_utils.cc:128] Failed to get CPU frequency: 0 Hz\n",
      "2023-01-30 22:10:43.189240: I tensorflow/core/grappler/optimizers/custom_graph_optimizer_registry.cc:114] Plugin optimizer for device_type GPU is enabled.\n"
     ]
    },
    {
     "name": "stdout",
     "output_type": "stream",
     "text": [
      "435/435 [==============================] - ETA: 0s - loss: 0.4263 - acc: 0.8512"
     ]
    },
    {
     "name": "stderr",
     "output_type": "stream",
     "text": [
      "2023-01-30 22:10:49.266040: I tensorflow/core/grappler/optimizers/custom_graph_optimizer_registry.cc:114] Plugin optimizer for device_type GPU is enabled.\n"
     ]
    },
    {
     "name": "stdout",
     "output_type": "stream",
     "text": [
      "435/435 [==============================] - 7s 11ms/step - loss: 0.4263 - acc: 0.8512 - val_loss: 0.3918 - val_acc: 0.8676\n",
      "Epoch 2/30\n",
      "435/435 [==============================] - 4s 9ms/step - loss: 0.4155 - acc: 0.8540 - val_loss: 0.3932 - val_acc: 0.8660\n",
      "Epoch 3/30\n",
      "435/435 [==============================] - 4s 9ms/step - loss: 0.4153 - acc: 0.8536 - val_loss: 0.3931 - val_acc: 0.8664\n",
      "Epoch 4/30\n",
      "435/435 [==============================] - 4s 9ms/step - loss: 0.4136 - acc: 0.8543 - val_loss: 0.3886 - val_acc: 0.8664\n",
      "Epoch 5/30\n",
      "435/435 [==============================] - 4s 9ms/step - loss: 0.4149 - acc: 0.8520 - val_loss: 0.3904 - val_acc: 0.8660\n",
      "Epoch 6/30\n",
      "435/435 [==============================] - 4s 9ms/step - loss: 0.4114 - acc: 0.8553 - val_loss: 0.3868 - val_acc: 0.8679\n",
      "Epoch 7/30\n",
      "435/435 [==============================] - 4s 9ms/step - loss: 0.4101 - acc: 0.8547 - val_loss: 0.3953 - val_acc: 0.8691\n",
      "Epoch 8/30\n",
      "435/435 [==============================] - 4s 10ms/step - loss: 0.4103 - acc: 0.8552 - val_loss: 0.3885 - val_acc: 0.8695\n",
      "Epoch 9/30\n",
      "435/435 [==============================] - 4s 9ms/step - loss: 0.4079 - acc: 0.8558 - val_loss: 0.3849 - val_acc: 0.8683\n",
      "Epoch 10/30\n",
      "435/435 [==============================] - 4s 10ms/step - loss: 0.4075 - acc: 0.8560 - val_loss: 0.3830 - val_acc: 0.8687\n",
      "Epoch 11/30\n",
      "435/435 [==============================] - 4s 9ms/step - loss: 0.4063 - acc: 0.8563 - val_loss: 0.3826 - val_acc: 0.8683\n",
      "Epoch 12/30\n",
      "435/435 [==============================] - 4s 10ms/step - loss: 0.4036 - acc: 0.8561 - val_loss: 0.3815 - val_acc: 0.8706\n",
      "Epoch 13/30\n",
      "435/435 [==============================] - 4s 9ms/step - loss: 0.4039 - acc: 0.8575 - val_loss: 0.3847 - val_acc: 0.8710\n",
      "Epoch 14/30\n",
      "435/435 [==============================] - 4s 10ms/step - loss: 0.4042 - acc: 0.8568 - val_loss: 0.3793 - val_acc: 0.8706\n",
      "Epoch 15/30\n",
      "435/435 [==============================] - 4s 10ms/step - loss: 0.4019 - acc: 0.8574 - val_loss: 0.3790 - val_acc: 0.8710\n",
      "Epoch 16/30\n",
      "435/435 [==============================] - 4s 9ms/step - loss: 0.4027 - acc: 0.8578 - val_loss: 0.3800 - val_acc: 0.8699\n",
      "Epoch 17/30\n",
      "435/435 [==============================] - 4s 10ms/step - loss: 0.4022 - acc: 0.8581 - val_loss: 0.3790 - val_acc: 0.8710\n",
      "Epoch 18/30\n",
      "435/435 [==============================] - 4s 9ms/step - loss: 0.4021 - acc: 0.8575 - val_loss: 0.3805 - val_acc: 0.8706\n",
      "Epoch 19/30\n",
      "435/435 [==============================] - 4s 10ms/step - loss: 0.4032 - acc: 0.8575 - val_loss: 0.3794 - val_acc: 0.8722\n",
      "Epoch 20/30\n",
      "435/435 [==============================] - 4s 10ms/step - loss: 0.4016 - acc: 0.8576 - val_loss: 0.3792 - val_acc: 0.8706\n",
      "Epoch 21/30\n",
      "435/435 [==============================] - 4s 10ms/step - loss: 0.4021 - acc: 0.8576 - val_loss: 0.3778 - val_acc: 0.8706\n",
      "Epoch 22/30\n",
      "435/435 [==============================] - 4s 9ms/step - loss: 0.4002 - acc: 0.8576 - val_loss: 0.3807 - val_acc: 0.8706\n",
      "Epoch 23/30\n",
      "435/435 [==============================] - 4s 9ms/step - loss: 0.4004 - acc: 0.8577 - val_loss: 0.3773 - val_acc: 0.8702\n",
      "Epoch 24/30\n",
      "435/435 [==============================] - 4s 10ms/step - loss: 0.4001 - acc: 0.8577 - val_loss: 0.3794 - val_acc: 0.8718\n",
      "Epoch 25/30\n",
      "435/435 [==============================] - 4s 10ms/step - loss: 0.3999 - acc: 0.8582 - val_loss: 0.3800 - val_acc: 0.8706\n",
      "Epoch 26/30\n",
      "435/435 [==============================] - 4s 9ms/step - loss: 0.3994 - acc: 0.8580 - val_loss: 0.3792 - val_acc: 0.8706\n",
      "Epoch 27/30\n",
      "435/435 [==============================] - 4s 9ms/step - loss: 0.4003 - acc: 0.8578 - val_loss: 0.3872 - val_acc: 0.8699\n",
      "Epoch 28/30\n",
      "435/435 [==============================] - 4s 10ms/step - loss: 0.3987 - acc: 0.8582 - val_loss: 0.3789 - val_acc: 0.8702\n",
      "Epoch 29/30\n",
      "435/435 [==============================] - 4s 10ms/step - loss: 0.3986 - acc: 0.8591 - val_loss: 0.3774 - val_acc: 0.8710\n",
      "Epoch 30/30\n",
      "435/435 [==============================] - 5s 10ms/step - loss: 0.3972 - acc: 0.8590 - val_loss: 0.3919 - val_acc: 0.8699\n"
     ]
    }
   ],
   "source": [
    "nn = nn_model(X_train, y_train, X_test, y_test)"
   ]
  },
  {
   "cell_type": "code",
   "execution_count": 32,
   "id": "c4fb16fb",
   "metadata": {},
   "outputs": [],
   "source": [
    "def nn_scores(nn):  #print the result(accuracy, recall, precision,f1score) of the optimized model\n",
    "    y_pred = nn.predict(X_test)\n",
    "    y_pred = np.argmax(y_pred, axis = 1)\n",
    "    acc = metrics.accuracy_score(y_test, y_pred)\n",
    "    recall = metrics.recall_score(y_test, y_pred)\n",
    "    precision = metrics.precision_score(y_test, y_pred)\n",
    "    F1 = metrics.f1_score(y_test, y_pred)\n",
    "    print(\"accuracy:\",  acc, '\\n', \"precision:\", precision, '\\n', \"recall:\", recall, '\\n', \"F1 :\",  F1)"
   ]
  },
  {
   "cell_type": "code",
   "execution_count": 33,
   "id": "1ba5427d",
   "metadata": {},
   "outputs": [
    {
     "name": "stdout",
     "output_type": "stream",
     "text": [
      "45/82 [===============>..............] - ETA: 0s"
     ]
    },
    {
     "name": "stderr",
     "output_type": "stream",
     "text": [
      "2023-01-30 22:12:50.014173: I tensorflow/core/grappler/optimizers/custom_graph_optimizer_registry.cc:114] Plugin optimizer for device_type GPU is enabled.\n"
     ]
    },
    {
     "name": "stdout",
     "output_type": "stream",
     "text": [
      "82/82 [==============================] - 0s 3ms/step\n",
      "accuracy: 0.8698656429942418 \n",
      " precision: 0.6933333333333334 \n",
      " recall: 0.14130434782608695 \n",
      " F1 : 0.23476297968397292\n"
     ]
    }
   ],
   "source": [
    "nn_scores(nn)"
   ]
  },
  {
   "cell_type": "markdown",
   "id": "cc962a59",
   "metadata": {},
   "source": [
    "Nachdem wir die Hyperparameter abgestimmt hatten, waren alle Modelle hat keine overfitting und gaben accuracy, recall, precision und f1_score aus, aber ein erhebliches Problem ist, dass die Testgenauigkeit bei etwa 87 % liegt,  schwer zu erhöhen ist und f1_score auf einem sehr niedrigen Niveau war, was wird durch zu geringen Recall verursacht, da die Daten extrem unausgeglichen sind (label_0:11000, label_1:2000)."
   ]
  }
 ],
 "metadata": {
  "kernelspec": {
   "display_name": "Python 3 (ipykernel)",
   "language": "python",
   "name": "python3"
  },
  "language_info": {
   "codemirror_mode": {
    "name": "ipython",
    "version": 3
   },
   "file_extension": ".py",
   "mimetype": "text/x-python",
   "name": "python",
   "nbconvert_exporter": "python",
   "pygments_lexer": "ipython3",
   "version": "3.9.0"
  }
 },
 "nbformat": 4,
 "nbformat_minor": 5
}
