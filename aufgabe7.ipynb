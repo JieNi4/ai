{
 "cells": [
  {
   "cell_type": "code",
   "execution_count": 1,
   "id": "0e07ac32",
   "metadata": {},
   "outputs": [],
   "source": [
    "import pandas as pd\n",
    "import seaborn as sns\n",
    "import matplotlib.pyplot as plt\n",
    "import os\n",
    "import numpy as np\n",
    "from pandas.core.frame import DataFrame\n",
    "from sklearn.model_selection import train_test_split\n",
    "import random"
   ]
  },
  {
   "cell_type": "code",
   "execution_count": 2,
   "id": "729f7be4",
   "metadata": {},
   "outputs": [],
   "source": [
    "path = ('/Users/njxwq/Desktop/ipynb/big_data/measurement_data')  #path of the data"
   ]
  },
  {
   "cell_type": "code",
   "execution_count": 3,
   "id": "abebbc52",
   "metadata": {},
   "outputs": [],
   "source": [
    "def get_folders(path):     #read all the folders in the path\n",
    "    folders =os.listdir(path)\n",
    "    folders.sort()\n",
    "    list= []\n",
    "    for folder in folders:\n",
    "        if not  os.path.isdir(path +folder):        \n",
    "            f_name = str(folder)\n",
    "            tr = '/'   \n",
    "            filename = path + tr + f_name\n",
    "            if len(f_name) == 10:\n",
    "                list.append(filename) \n",
    "    return list"
   ]
  },
  {
   "cell_type": "code",
   "execution_count": 4,
   "id": "56a81c09",
   "metadata": {},
   "outputs": [],
   "source": [
    "def get_files(path):   #read all the files in one folder, store the features data and label data separately\n",
    "    files =os.listdir(path)\n",
    "    files.sort()\n",
    "    list= []\n",
    "    list1 = []\n",
    "    for file in files:\n",
    "        if not  os.path.isdir(path +file):        \n",
    "            f_name = str(file)\n",
    "            tr = '/'   \n",
    "            filename = path + tr + f_name\n",
    "            name, typename = filename.split('.')\n",
    "            if typename == 'csv':\n",
    "                if len(f_name) == 13:\n",
    "                    list.append(filename)\n",
    "                else:\n",
    "                    list1.append(filename)\n",
    "    return list,list1"
   ]
  },
  {
   "cell_type": "code",
   "execution_count": 5,
   "id": "1e8bd0a4",
   "metadata": {},
   "outputs": [],
   "source": [
    "list_folder = get_folders(path)  "
   ]
  },
  {
   "cell_type": "code",
   "execution_count": 6,
   "id": "dc80b00c",
   "metadata": {},
   "outputs": [],
   "source": [
    "def transform_new(data): #transform the input data to suitable form. \n",
    "    if len(data.columns) == 1:\n",
    "        data = data.iloc[:,0].str.split(';', expand = True)\n",
    "        data.columns = ['hour', 'minute', 'second', 'microsecond', 'hori_acc', 'ver_acc']\n",
    "        data[['hour', 'minute','second',  'microsecond', 'hori_acc', 'ver_acc']] = data[['hour', 'minute','second', 'microsecond', 'hori_acc', 'ver_acc']].astype(float)\n",
    "        data['datatime'] = data['hour'] + data['minute']/60 + data['second']/3600\n",
    "        data.drop('hour', axis = 1, inplace = True)\n",
    "        data.drop('minute', axis = 1, inplace = True)\n",
    "        data.drop('second', axis = 1, inplace = True)\n",
    "        data.drop('microsecond', axis = 1, inplace = True)\n",
    "\n",
    "        data.insert(0, 'datatime', data.pop('datatime'))\n",
    "    else:\n",
    "        data.columns = ['hour', 'minute', 'second', 'microsecond', 'hori_acc', 'ver_acc']\n",
    "        data[['hour', 'minute','second',  'microsecond', 'hori_acc', 'ver_acc']] = data[['hour', 'minute','second', 'microsecond', 'hori_acc', 'ver_acc']].astype(float)\n",
    "        data['datatime'] = data['hour'] + data['minute']/60 + data['second']/3600\n",
    "        data.drop('hour', axis = 1, inplace = True)\n",
    "        data.drop('minute', axis = 1, inplace = True)\n",
    "        data.drop('second', axis = 1, inplace = True)\n",
    "        data.drop('microsecond', axis = 1, inplace = True)\n",
    "    return data"
   ]
  },
  {
   "cell_type": "code",
   "execution_count": 7,
   "id": "1a920d50",
   "metadata": {},
   "outputs": [],
   "source": [
    "def min_max_var_catch(list):  #collect the min, max and variance value of features hori_acc and ver_acc\n",
    "    list_min_hori = []\n",
    "    list_max_hori = []\n",
    "    list_min_ver = []\n",
    "    list_max_ver = []\n",
    "    list_var_hori = []\n",
    "    list_var_ver = []\n",
    "    for file in list:\n",
    "        df1 = pd.read_csv(file)\n",
    "        df = transform_new(df1)\n",
    "        list_max_hori.append(np.max(df['hori_acc']))\n",
    "        list_max_ver.append(np.max(df['ver_acc']))\n",
    "        list_min_hori.append(np.min(df['hori_acc']))\n",
    "        list_min_ver.append(np.min(df['ver_acc']))\n",
    "        list_var_hori.append(np.var(df['hori_acc']))\n",
    "        list_var_ver.append(np.var(df['ver_acc']))\n",
    "    return list_max_hori,list_max_ver,list_min_hori,list_min_ver,list_var_hori,list_var_ver"
   ]
  },
  {
   "cell_type": "code",
   "execution_count": 8,
   "id": "bef2d6eb",
   "metadata": {},
   "outputs": [],
   "source": [
    "list_df = []  #create a list to store the transformed dataframe"
   ]
  },
  {
   "cell_type": "code",
   "execution_count": 9,
   "id": "e74e2f43",
   "metadata": {},
   "outputs": [],
   "source": [
    "for path1 in list_folder:  #from all the data files transform dataframe and store it in the pre-defined list\n",
    "    list_file, list_label = get_files(path1)\n",
    "    list_max_hori, list_max_ver, list_min_hori, list_min_ver, list_var_hori, list_var_ver = min_max_var_catch(list_file)\n",
    "    dict1 = {'max_hori': list_max_hori, \n",
    "             'max_ver': list_max_ver, \n",
    "             'min_hori': list_min_hori,\n",
    "             'min_ver': list_min_ver,\n",
    "             'var_hori': list_var_hori,\n",
    "             'var_ver':list_var_ver}\n",
    "    df = DataFrame(dict1)\n",
    "    df2 = pd.read_csv(list_label[0])\n",
    "    df['state'] = df2['state']\n",
    "    df['file'] = df2['file']\n",
    "    df.insert(0, 'file', df.pop('file'))\n",
    "    list_df.append(df)"
   ]
  },
  {
   "cell_type": "code",
   "execution_count": 10,
   "id": "65b90831",
   "metadata": {},
   "outputs": [],
   "source": [
    "df = list_df[0] #combine all the dataframes and use only one dataframe to represent all the data.\n",
    "for i in range(1, len(list_df)):\n",
    "    df = pd.concat([df, list_df[i]], ignore_index = True)"
   ]
  },
  {
   "cell_type": "code",
   "execution_count": 11,
   "id": "75a91a29",
   "metadata": {},
   "outputs": [
    {
     "data": {
      "text/html": [
       "<div>\n",
       "<style scoped>\n",
       "    .dataframe tbody tr th:only-of-type {\n",
       "        vertical-align: middle;\n",
       "    }\n",
       "\n",
       "    .dataframe tbody tr th {\n",
       "        vertical-align: top;\n",
       "    }\n",
       "\n",
       "    .dataframe thead th {\n",
       "        text-align: right;\n",
       "    }\n",
       "</style>\n",
       "<table border=\"1\" class=\"dataframe\">\n",
       "  <thead>\n",
       "    <tr style=\"text-align: right;\">\n",
       "      <th></th>\n",
       "      <th>file</th>\n",
       "      <th>max_hori</th>\n",
       "      <th>max_ver</th>\n",
       "      <th>min_hori</th>\n",
       "      <th>min_ver</th>\n",
       "      <th>var_hori</th>\n",
       "      <th>var_ver</th>\n",
       "      <th>state</th>\n",
       "    </tr>\n",
       "  </thead>\n",
       "  <tbody>\n",
       "    <tr>\n",
       "      <th>0</th>\n",
       "      <td>acc_00001.csv</td>\n",
       "      <td>1.373</td>\n",
       "      <td>1.658</td>\n",
       "      <td>-1.511</td>\n",
       "      <td>-2.045</td>\n",
       "      <td>0.162646</td>\n",
       "      <td>0.206963</td>\n",
       "      <td>0</td>\n",
       "    </tr>\n",
       "    <tr>\n",
       "      <th>1</th>\n",
       "      <td>acc_00002.csv</td>\n",
       "      <td>1.299</td>\n",
       "      <td>1.537</td>\n",
       "      <td>-1.446</td>\n",
       "      <td>-1.685</td>\n",
       "      <td>0.152569</td>\n",
       "      <td>0.210466</td>\n",
       "      <td>0</td>\n",
       "    </tr>\n",
       "    <tr>\n",
       "      <th>2</th>\n",
       "      <td>acc_00003.csv</td>\n",
       "      <td>1.313</td>\n",
       "      <td>2.161</td>\n",
       "      <td>-1.505</td>\n",
       "      <td>-1.872</td>\n",
       "      <td>0.153525</td>\n",
       "      <td>0.241473</td>\n",
       "      <td>0</td>\n",
       "    </tr>\n",
       "    <tr>\n",
       "      <th>3</th>\n",
       "      <td>acc_00004.csv</td>\n",
       "      <td>1.508</td>\n",
       "      <td>1.637</td>\n",
       "      <td>-1.476</td>\n",
       "      <td>-2.033</td>\n",
       "      <td>0.172871</td>\n",
       "      <td>0.225352</td>\n",
       "      <td>0</td>\n",
       "    </tr>\n",
       "    <tr>\n",
       "      <th>4</th>\n",
       "      <td>acc_00005.csv</td>\n",
       "      <td>1.334</td>\n",
       "      <td>1.967</td>\n",
       "      <td>-1.225</td>\n",
       "      <td>-1.690</td>\n",
       "      <td>0.149533</td>\n",
       "      <td>0.261756</td>\n",
       "      <td>0</td>\n",
       "    </tr>\n",
       "    <tr>\n",
       "      <th>...</th>\n",
       "      <td>...</td>\n",
       "      <td>...</td>\n",
       "      <td>...</td>\n",
       "      <td>...</td>\n",
       "      <td>...</td>\n",
       "      <td>...</td>\n",
       "      <td>...</td>\n",
       "      <td>...</td>\n",
       "    </tr>\n",
       "    <tr>\n",
       "      <th>13020</th>\n",
       "      <td>acc_00430.csv</td>\n",
       "      <td>4.004</td>\n",
       "      <td>12.851</td>\n",
       "      <td>-6.815</td>\n",
       "      <td>-6.985</td>\n",
       "      <td>1.466502</td>\n",
       "      <td>3.235708</td>\n",
       "      <td>2</td>\n",
       "    </tr>\n",
       "    <tr>\n",
       "      <th>13021</th>\n",
       "      <td>acc_00431.csv</td>\n",
       "      <td>3.762</td>\n",
       "      <td>12.570</td>\n",
       "      <td>-6.387</td>\n",
       "      <td>-8.043</td>\n",
       "      <td>1.389952</td>\n",
       "      <td>3.300033</td>\n",
       "      <td>2</td>\n",
       "    </tr>\n",
       "    <tr>\n",
       "      <th>13022</th>\n",
       "      <td>acc_00432.csv</td>\n",
       "      <td>4.365</td>\n",
       "      <td>11.900</td>\n",
       "      <td>-6.003</td>\n",
       "      <td>-7.761</td>\n",
       "      <td>1.451063</td>\n",
       "      <td>3.535872</td>\n",
       "      <td>2</td>\n",
       "    </tr>\n",
       "    <tr>\n",
       "      <th>13023</th>\n",
       "      <td>acc_00433.csv</td>\n",
       "      <td>4.022</td>\n",
       "      <td>14.616</td>\n",
       "      <td>-6.062</td>\n",
       "      <td>-8.082</td>\n",
       "      <td>1.574335</td>\n",
       "      <td>4.240760</td>\n",
       "      <td>2</td>\n",
       "    </tr>\n",
       "    <tr>\n",
       "      <th>13024</th>\n",
       "      <td>acc_00434.csv</td>\n",
       "      <td>4.578</td>\n",
       "      <td>15.982</td>\n",
       "      <td>-5.862</td>\n",
       "      <td>-9.992</td>\n",
       "      <td>1.677592</td>\n",
       "      <td>4.958413</td>\n",
       "      <td>2</td>\n",
       "    </tr>\n",
       "  </tbody>\n",
       "</table>\n",
       "<p>13025 rows × 8 columns</p>\n",
       "</div>"
      ],
      "text/plain": [
       "                file  max_hori  max_ver  min_hori  min_ver  var_hori  \\\n",
       "0      acc_00001.csv     1.373    1.658    -1.511   -2.045  0.162646   \n",
       "1      acc_00002.csv     1.299    1.537    -1.446   -1.685  0.152569   \n",
       "2      acc_00003.csv     1.313    2.161    -1.505   -1.872  0.153525   \n",
       "3      acc_00004.csv     1.508    1.637    -1.476   -2.033  0.172871   \n",
       "4      acc_00005.csv     1.334    1.967    -1.225   -1.690  0.149533   \n",
       "...              ...       ...      ...       ...      ...       ...   \n",
       "13020  acc_00430.csv     4.004   12.851    -6.815   -6.985  1.466502   \n",
       "13021  acc_00431.csv     3.762   12.570    -6.387   -8.043  1.389952   \n",
       "13022  acc_00432.csv     4.365   11.900    -6.003   -7.761  1.451063   \n",
       "13023  acc_00433.csv     4.022   14.616    -6.062   -8.082  1.574335   \n",
       "13024  acc_00434.csv     4.578   15.982    -5.862   -9.992  1.677592   \n",
       "\n",
       "        var_ver  state  \n",
       "0      0.206963      0  \n",
       "1      0.210466      0  \n",
       "2      0.241473      0  \n",
       "3      0.225352      0  \n",
       "4      0.261756      0  \n",
       "...         ...    ...  \n",
       "13020  3.235708      2  \n",
       "13021  3.300033      2  \n",
       "13022  3.535872      2  \n",
       "13023  4.240760      2  \n",
       "13024  4.958413      2  \n",
       "\n",
       "[13025 rows x 8 columns]"
      ]
     },
     "execution_count": 11,
     "metadata": {},
     "output_type": "execute_result"
    }
   ],
   "source": [
    "df  #check the new dataframe which will be used in classfication"
   ]
  },
  {
   "cell_type": "code",
   "execution_count": 12,
   "id": "c91c5f09",
   "metadata": {},
   "outputs": [],
   "source": [
    "df1 = pd.read_csv('the_whole_data.csv')  #read the previous transformed data(mean and mid value)"
   ]
  },
  {
   "cell_type": "code",
   "execution_count": 13,
   "id": "125a65ed",
   "metadata": {},
   "outputs": [],
   "source": [
    "df1 = df1[[ 'mean_hori', 'mean_ver', 'median_hori', 'median_ver', 'state']]"
   ]
  },
  {
   "cell_type": "code",
   "execution_count": 14,
   "id": "33f03c28",
   "metadata": {},
   "outputs": [
    {
     "data": {
      "text/html": [
       "<div>\n",
       "<style scoped>\n",
       "    .dataframe tbody tr th:only-of-type {\n",
       "        vertical-align: middle;\n",
       "    }\n",
       "\n",
       "    .dataframe tbody tr th {\n",
       "        vertical-align: top;\n",
       "    }\n",
       "\n",
       "    .dataframe thead th {\n",
       "        text-align: right;\n",
       "    }\n",
       "</style>\n",
       "<table border=\"1\" class=\"dataframe\">\n",
       "  <thead>\n",
       "    <tr style=\"text-align: right;\">\n",
       "      <th></th>\n",
       "      <th>mean_hori</th>\n",
       "      <th>mean_ver</th>\n",
       "      <th>median_hori</th>\n",
       "      <th>median_ver</th>\n",
       "      <th>state</th>\n",
       "    </tr>\n",
       "  </thead>\n",
       "  <tbody>\n",
       "    <tr>\n",
       "      <th>0</th>\n",
       "      <td>0.006363</td>\n",
       "      <td>0.001671</td>\n",
       "      <td>0.003</td>\n",
       "      <td>0.014</td>\n",
       "      <td>0</td>\n",
       "    </tr>\n",
       "    <tr>\n",
       "      <th>1</th>\n",
       "      <td>-0.009000</td>\n",
       "      <td>0.006691</td>\n",
       "      <td>-0.013</td>\n",
       "      <td>0.012</td>\n",
       "      <td>0</td>\n",
       "    </tr>\n",
       "    <tr>\n",
       "      <th>2</th>\n",
       "      <td>-0.006220</td>\n",
       "      <td>-0.008295</td>\n",
       "      <td>-0.011</td>\n",
       "      <td>0.005</td>\n",
       "      <td>0</td>\n",
       "    </tr>\n",
       "    <tr>\n",
       "      <th>3</th>\n",
       "      <td>-0.005819</td>\n",
       "      <td>-0.001751</td>\n",
       "      <td>0.002</td>\n",
       "      <td>0.009</td>\n",
       "      <td>0</td>\n",
       "    </tr>\n",
       "    <tr>\n",
       "      <th>4</th>\n",
       "      <td>-0.002016</td>\n",
       "      <td>0.006631</td>\n",
       "      <td>-0.009</td>\n",
       "      <td>0.002</td>\n",
       "      <td>0</td>\n",
       "    </tr>\n",
       "    <tr>\n",
       "      <th>...</th>\n",
       "      <td>...</td>\n",
       "      <td>...</td>\n",
       "      <td>...</td>\n",
       "      <td>...</td>\n",
       "      <td>...</td>\n",
       "    </tr>\n",
       "    <tr>\n",
       "      <th>13020</th>\n",
       "      <td>-0.039199</td>\n",
       "      <td>0.003162</td>\n",
       "      <td>0.008</td>\n",
       "      <td>-0.008</td>\n",
       "      <td>2</td>\n",
       "    </tr>\n",
       "    <tr>\n",
       "      <th>13021</th>\n",
       "      <td>-0.029962</td>\n",
       "      <td>-0.002062</td>\n",
       "      <td>0.022</td>\n",
       "      <td>-0.023</td>\n",
       "      <td>2</td>\n",
       "    </tr>\n",
       "    <tr>\n",
       "      <th>13022</th>\n",
       "      <td>-0.056482</td>\n",
       "      <td>0.050883</td>\n",
       "      <td>-0.036</td>\n",
       "      <td>-0.032</td>\n",
       "      <td>2</td>\n",
       "    </tr>\n",
       "    <tr>\n",
       "      <th>13023</th>\n",
       "      <td>0.013096</td>\n",
       "      <td>0.028659</td>\n",
       "      <td>0.059</td>\n",
       "      <td>-0.050</td>\n",
       "      <td>2</td>\n",
       "    </tr>\n",
       "    <tr>\n",
       "      <th>13024</th>\n",
       "      <td>0.049246</td>\n",
       "      <td>0.004728</td>\n",
       "      <td>0.109</td>\n",
       "      <td>-0.042</td>\n",
       "      <td>2</td>\n",
       "    </tr>\n",
       "  </tbody>\n",
       "</table>\n",
       "<p>13025 rows × 5 columns</p>\n",
       "</div>"
      ],
      "text/plain": [
       "       mean_hori  mean_ver  median_hori  median_ver  state\n",
       "0       0.006363  0.001671        0.003       0.014      0\n",
       "1      -0.009000  0.006691       -0.013       0.012      0\n",
       "2      -0.006220 -0.008295       -0.011       0.005      0\n",
       "3      -0.005819 -0.001751        0.002       0.009      0\n",
       "4      -0.002016  0.006631       -0.009       0.002      0\n",
       "...          ...       ...          ...         ...    ...\n",
       "13020  -0.039199  0.003162        0.008      -0.008      2\n",
       "13021  -0.029962 -0.002062        0.022      -0.023      2\n",
       "13022  -0.056482  0.050883       -0.036      -0.032      2\n",
       "13023   0.013096  0.028659        0.059      -0.050      2\n",
       "13024   0.049246  0.004728        0.109      -0.042      2\n",
       "\n",
       "[13025 rows x 5 columns]"
      ]
     },
     "execution_count": 14,
     "metadata": {},
     "output_type": "execute_result"
    }
   ],
   "source": [
    "df1"
   ]
  },
  {
   "cell_type": "code",
   "execution_count": 15,
   "id": "7e4e6924",
   "metadata": {},
   "outputs": [],
   "source": [
    "df1[['max_hori','max_ver', 'min_hori', 'min_ver', 'var_hori', 'var_ver']] = df[['max_hori','max_ver', 'min_hori', 'min_ver', 'var_hori', 'var_ver']]"
   ]
  },
  {
   "cell_type": "code",
   "execution_count": 16,
   "id": "97daf0dc",
   "metadata": {},
   "outputs": [
    {
     "data": {
      "text/html": [
       "<div>\n",
       "<style scoped>\n",
       "    .dataframe tbody tr th:only-of-type {\n",
       "        vertical-align: middle;\n",
       "    }\n",
       "\n",
       "    .dataframe tbody tr th {\n",
       "        vertical-align: top;\n",
       "    }\n",
       "\n",
       "    .dataframe thead th {\n",
       "        text-align: right;\n",
       "    }\n",
       "</style>\n",
       "<table border=\"1\" class=\"dataframe\">\n",
       "  <thead>\n",
       "    <tr style=\"text-align: right;\">\n",
       "      <th></th>\n",
       "      <th>mean_hori</th>\n",
       "      <th>mean_ver</th>\n",
       "      <th>median_hori</th>\n",
       "      <th>median_ver</th>\n",
       "      <th>state</th>\n",
       "      <th>max_hori</th>\n",
       "      <th>max_ver</th>\n",
       "      <th>min_hori</th>\n",
       "      <th>min_ver</th>\n",
       "      <th>var_hori</th>\n",
       "      <th>var_ver</th>\n",
       "    </tr>\n",
       "  </thead>\n",
       "  <tbody>\n",
       "    <tr>\n",
       "      <th>0</th>\n",
       "      <td>0.006363</td>\n",
       "      <td>0.001671</td>\n",
       "      <td>0.003</td>\n",
       "      <td>0.014</td>\n",
       "      <td>0</td>\n",
       "      <td>1.373</td>\n",
       "      <td>1.658</td>\n",
       "      <td>-1.511</td>\n",
       "      <td>-2.045</td>\n",
       "      <td>0.162646</td>\n",
       "      <td>0.206963</td>\n",
       "    </tr>\n",
       "    <tr>\n",
       "      <th>1</th>\n",
       "      <td>-0.009000</td>\n",
       "      <td>0.006691</td>\n",
       "      <td>-0.013</td>\n",
       "      <td>0.012</td>\n",
       "      <td>0</td>\n",
       "      <td>1.299</td>\n",
       "      <td>1.537</td>\n",
       "      <td>-1.446</td>\n",
       "      <td>-1.685</td>\n",
       "      <td>0.152569</td>\n",
       "      <td>0.210466</td>\n",
       "    </tr>\n",
       "    <tr>\n",
       "      <th>2</th>\n",
       "      <td>-0.006220</td>\n",
       "      <td>-0.008295</td>\n",
       "      <td>-0.011</td>\n",
       "      <td>0.005</td>\n",
       "      <td>0</td>\n",
       "      <td>1.313</td>\n",
       "      <td>2.161</td>\n",
       "      <td>-1.505</td>\n",
       "      <td>-1.872</td>\n",
       "      <td>0.153525</td>\n",
       "      <td>0.241473</td>\n",
       "    </tr>\n",
       "    <tr>\n",
       "      <th>3</th>\n",
       "      <td>-0.005819</td>\n",
       "      <td>-0.001751</td>\n",
       "      <td>0.002</td>\n",
       "      <td>0.009</td>\n",
       "      <td>0</td>\n",
       "      <td>1.508</td>\n",
       "      <td>1.637</td>\n",
       "      <td>-1.476</td>\n",
       "      <td>-2.033</td>\n",
       "      <td>0.172871</td>\n",
       "      <td>0.225352</td>\n",
       "    </tr>\n",
       "    <tr>\n",
       "      <th>4</th>\n",
       "      <td>-0.002016</td>\n",
       "      <td>0.006631</td>\n",
       "      <td>-0.009</td>\n",
       "      <td>0.002</td>\n",
       "      <td>0</td>\n",
       "      <td>1.334</td>\n",
       "      <td>1.967</td>\n",
       "      <td>-1.225</td>\n",
       "      <td>-1.690</td>\n",
       "      <td>0.149533</td>\n",
       "      <td>0.261756</td>\n",
       "    </tr>\n",
       "    <tr>\n",
       "      <th>...</th>\n",
       "      <td>...</td>\n",
       "      <td>...</td>\n",
       "      <td>...</td>\n",
       "      <td>...</td>\n",
       "      <td>...</td>\n",
       "      <td>...</td>\n",
       "      <td>...</td>\n",
       "      <td>...</td>\n",
       "      <td>...</td>\n",
       "      <td>...</td>\n",
       "      <td>...</td>\n",
       "    </tr>\n",
       "    <tr>\n",
       "      <th>13020</th>\n",
       "      <td>-0.039199</td>\n",
       "      <td>0.003162</td>\n",
       "      <td>0.008</td>\n",
       "      <td>-0.008</td>\n",
       "      <td>2</td>\n",
       "      <td>4.004</td>\n",
       "      <td>12.851</td>\n",
       "      <td>-6.815</td>\n",
       "      <td>-6.985</td>\n",
       "      <td>1.466502</td>\n",
       "      <td>3.235708</td>\n",
       "    </tr>\n",
       "    <tr>\n",
       "      <th>13021</th>\n",
       "      <td>-0.029962</td>\n",
       "      <td>-0.002062</td>\n",
       "      <td>0.022</td>\n",
       "      <td>-0.023</td>\n",
       "      <td>2</td>\n",
       "      <td>3.762</td>\n",
       "      <td>12.570</td>\n",
       "      <td>-6.387</td>\n",
       "      <td>-8.043</td>\n",
       "      <td>1.389952</td>\n",
       "      <td>3.300033</td>\n",
       "    </tr>\n",
       "    <tr>\n",
       "      <th>13022</th>\n",
       "      <td>-0.056482</td>\n",
       "      <td>0.050883</td>\n",
       "      <td>-0.036</td>\n",
       "      <td>-0.032</td>\n",
       "      <td>2</td>\n",
       "      <td>4.365</td>\n",
       "      <td>11.900</td>\n",
       "      <td>-6.003</td>\n",
       "      <td>-7.761</td>\n",
       "      <td>1.451063</td>\n",
       "      <td>3.535872</td>\n",
       "    </tr>\n",
       "    <tr>\n",
       "      <th>13023</th>\n",
       "      <td>0.013096</td>\n",
       "      <td>0.028659</td>\n",
       "      <td>0.059</td>\n",
       "      <td>-0.050</td>\n",
       "      <td>2</td>\n",
       "      <td>4.022</td>\n",
       "      <td>14.616</td>\n",
       "      <td>-6.062</td>\n",
       "      <td>-8.082</td>\n",
       "      <td>1.574335</td>\n",
       "      <td>4.240760</td>\n",
       "    </tr>\n",
       "    <tr>\n",
       "      <th>13024</th>\n",
       "      <td>0.049246</td>\n",
       "      <td>0.004728</td>\n",
       "      <td>0.109</td>\n",
       "      <td>-0.042</td>\n",
       "      <td>2</td>\n",
       "      <td>4.578</td>\n",
       "      <td>15.982</td>\n",
       "      <td>-5.862</td>\n",
       "      <td>-9.992</td>\n",
       "      <td>1.677592</td>\n",
       "      <td>4.958413</td>\n",
       "    </tr>\n",
       "  </tbody>\n",
       "</table>\n",
       "<p>13025 rows × 11 columns</p>\n",
       "</div>"
      ],
      "text/plain": [
       "       mean_hori  mean_ver  median_hori  median_ver  state  max_hori  max_ver  \\\n",
       "0       0.006363  0.001671        0.003       0.014      0     1.373    1.658   \n",
       "1      -0.009000  0.006691       -0.013       0.012      0     1.299    1.537   \n",
       "2      -0.006220 -0.008295       -0.011       0.005      0     1.313    2.161   \n",
       "3      -0.005819 -0.001751        0.002       0.009      0     1.508    1.637   \n",
       "4      -0.002016  0.006631       -0.009       0.002      0     1.334    1.967   \n",
       "...          ...       ...          ...         ...    ...       ...      ...   \n",
       "13020  -0.039199  0.003162        0.008      -0.008      2     4.004   12.851   \n",
       "13021  -0.029962 -0.002062        0.022      -0.023      2     3.762   12.570   \n",
       "13022  -0.056482  0.050883       -0.036      -0.032      2     4.365   11.900   \n",
       "13023   0.013096  0.028659        0.059      -0.050      2     4.022   14.616   \n",
       "13024   0.049246  0.004728        0.109      -0.042      2     4.578   15.982   \n",
       "\n",
       "       min_hori  min_ver  var_hori   var_ver  \n",
       "0        -1.511   -2.045  0.162646  0.206963  \n",
       "1        -1.446   -1.685  0.152569  0.210466  \n",
       "2        -1.505   -1.872  0.153525  0.241473  \n",
       "3        -1.476   -2.033  0.172871  0.225352  \n",
       "4        -1.225   -1.690  0.149533  0.261756  \n",
       "...         ...      ...       ...       ...  \n",
       "13020    -6.815   -6.985  1.466502  3.235708  \n",
       "13021    -6.387   -8.043  1.389952  3.300033  \n",
       "13022    -6.003   -7.761  1.451063  3.535872  \n",
       "13023    -6.062   -8.082  1.574335  4.240760  \n",
       "13024    -5.862   -9.992  1.677592  4.958413  \n",
       "\n",
       "[13025 rows x 11 columns]"
      ]
     },
     "execution_count": 16,
     "metadata": {},
     "output_type": "execute_result"
    }
   ],
   "source": [
    "df1 #connect these two dataframes, df1 is the final dataframe which should be used in training."
   ]
  },
  {
   "cell_type": "code",
   "execution_count": 17,
   "id": "d70778b4",
   "metadata": {},
   "outputs": [],
   "source": [
    "X = df1[['mean_hori', 'mean_ver', 'median_hori', 'median_ver',   \n",
    "         'max_hori','max_ver', 'min_hori', 'min_ver', 'var_hori', 'var_ver']]   #define feature_data\n",
    "Y = df1['state']"
   ]
  },
  {
   "cell_type": "code",
   "execution_count": 18,
   "id": "21360768",
   "metadata": {},
   "outputs": [
    {
     "data": {
      "text/html": [
       "<div>\n",
       "<style scoped>\n",
       "    .dataframe tbody tr th:only-of-type {\n",
       "        vertical-align: middle;\n",
       "    }\n",
       "\n",
       "    .dataframe tbody tr th {\n",
       "        vertical-align: top;\n",
       "    }\n",
       "\n",
       "    .dataframe thead th {\n",
       "        text-align: right;\n",
       "    }\n",
       "</style>\n",
       "<table border=\"1\" class=\"dataframe\">\n",
       "  <thead>\n",
       "    <tr style=\"text-align: right;\">\n",
       "      <th></th>\n",
       "      <th>mean_hori</th>\n",
       "      <th>mean_ver</th>\n",
       "      <th>median_hori</th>\n",
       "      <th>median_ver</th>\n",
       "      <th>max_hori</th>\n",
       "      <th>max_ver</th>\n",
       "      <th>min_hori</th>\n",
       "      <th>min_ver</th>\n",
       "      <th>var_hori</th>\n",
       "      <th>var_ver</th>\n",
       "    </tr>\n",
       "  </thead>\n",
       "  <tbody>\n",
       "    <tr>\n",
       "      <th>0</th>\n",
       "      <td>0.006363</td>\n",
       "      <td>0.001671</td>\n",
       "      <td>0.003</td>\n",
       "      <td>0.014</td>\n",
       "      <td>1.373</td>\n",
       "      <td>1.658</td>\n",
       "      <td>-1.511</td>\n",
       "      <td>-2.045</td>\n",
       "      <td>0.162646</td>\n",
       "      <td>0.206963</td>\n",
       "    </tr>\n",
       "    <tr>\n",
       "      <th>1</th>\n",
       "      <td>-0.009000</td>\n",
       "      <td>0.006691</td>\n",
       "      <td>-0.013</td>\n",
       "      <td>0.012</td>\n",
       "      <td>1.299</td>\n",
       "      <td>1.537</td>\n",
       "      <td>-1.446</td>\n",
       "      <td>-1.685</td>\n",
       "      <td>0.152569</td>\n",
       "      <td>0.210466</td>\n",
       "    </tr>\n",
       "    <tr>\n",
       "      <th>2</th>\n",
       "      <td>-0.006220</td>\n",
       "      <td>-0.008295</td>\n",
       "      <td>-0.011</td>\n",
       "      <td>0.005</td>\n",
       "      <td>1.313</td>\n",
       "      <td>2.161</td>\n",
       "      <td>-1.505</td>\n",
       "      <td>-1.872</td>\n",
       "      <td>0.153525</td>\n",
       "      <td>0.241473</td>\n",
       "    </tr>\n",
       "    <tr>\n",
       "      <th>3</th>\n",
       "      <td>-0.005819</td>\n",
       "      <td>-0.001751</td>\n",
       "      <td>0.002</td>\n",
       "      <td>0.009</td>\n",
       "      <td>1.508</td>\n",
       "      <td>1.637</td>\n",
       "      <td>-1.476</td>\n",
       "      <td>-2.033</td>\n",
       "      <td>0.172871</td>\n",
       "      <td>0.225352</td>\n",
       "    </tr>\n",
       "    <tr>\n",
       "      <th>4</th>\n",
       "      <td>-0.002016</td>\n",
       "      <td>0.006631</td>\n",
       "      <td>-0.009</td>\n",
       "      <td>0.002</td>\n",
       "      <td>1.334</td>\n",
       "      <td>1.967</td>\n",
       "      <td>-1.225</td>\n",
       "      <td>-1.690</td>\n",
       "      <td>0.149533</td>\n",
       "      <td>0.261756</td>\n",
       "    </tr>\n",
       "    <tr>\n",
       "      <th>...</th>\n",
       "      <td>...</td>\n",
       "      <td>...</td>\n",
       "      <td>...</td>\n",
       "      <td>...</td>\n",
       "      <td>...</td>\n",
       "      <td>...</td>\n",
       "      <td>...</td>\n",
       "      <td>...</td>\n",
       "      <td>...</td>\n",
       "      <td>...</td>\n",
       "    </tr>\n",
       "    <tr>\n",
       "      <th>13020</th>\n",
       "      <td>-0.039199</td>\n",
       "      <td>0.003162</td>\n",
       "      <td>0.008</td>\n",
       "      <td>-0.008</td>\n",
       "      <td>4.004</td>\n",
       "      <td>12.851</td>\n",
       "      <td>-6.815</td>\n",
       "      <td>-6.985</td>\n",
       "      <td>1.466502</td>\n",
       "      <td>3.235708</td>\n",
       "    </tr>\n",
       "    <tr>\n",
       "      <th>13021</th>\n",
       "      <td>-0.029962</td>\n",
       "      <td>-0.002062</td>\n",
       "      <td>0.022</td>\n",
       "      <td>-0.023</td>\n",
       "      <td>3.762</td>\n",
       "      <td>12.570</td>\n",
       "      <td>-6.387</td>\n",
       "      <td>-8.043</td>\n",
       "      <td>1.389952</td>\n",
       "      <td>3.300033</td>\n",
       "    </tr>\n",
       "    <tr>\n",
       "      <th>13022</th>\n",
       "      <td>-0.056482</td>\n",
       "      <td>0.050883</td>\n",
       "      <td>-0.036</td>\n",
       "      <td>-0.032</td>\n",
       "      <td>4.365</td>\n",
       "      <td>11.900</td>\n",
       "      <td>-6.003</td>\n",
       "      <td>-7.761</td>\n",
       "      <td>1.451063</td>\n",
       "      <td>3.535872</td>\n",
       "    </tr>\n",
       "    <tr>\n",
       "      <th>13023</th>\n",
       "      <td>0.013096</td>\n",
       "      <td>0.028659</td>\n",
       "      <td>0.059</td>\n",
       "      <td>-0.050</td>\n",
       "      <td>4.022</td>\n",
       "      <td>14.616</td>\n",
       "      <td>-6.062</td>\n",
       "      <td>-8.082</td>\n",
       "      <td>1.574335</td>\n",
       "      <td>4.240760</td>\n",
       "    </tr>\n",
       "    <tr>\n",
       "      <th>13024</th>\n",
       "      <td>0.049246</td>\n",
       "      <td>0.004728</td>\n",
       "      <td>0.109</td>\n",
       "      <td>-0.042</td>\n",
       "      <td>4.578</td>\n",
       "      <td>15.982</td>\n",
       "      <td>-5.862</td>\n",
       "      <td>-9.992</td>\n",
       "      <td>1.677592</td>\n",
       "      <td>4.958413</td>\n",
       "    </tr>\n",
       "  </tbody>\n",
       "</table>\n",
       "<p>13025 rows × 10 columns</p>\n",
       "</div>"
      ],
      "text/plain": [
       "       mean_hori  mean_ver  median_hori  median_ver  max_hori  max_ver  \\\n",
       "0       0.006363  0.001671        0.003       0.014     1.373    1.658   \n",
       "1      -0.009000  0.006691       -0.013       0.012     1.299    1.537   \n",
       "2      -0.006220 -0.008295       -0.011       0.005     1.313    2.161   \n",
       "3      -0.005819 -0.001751        0.002       0.009     1.508    1.637   \n",
       "4      -0.002016  0.006631       -0.009       0.002     1.334    1.967   \n",
       "...          ...       ...          ...         ...       ...      ...   \n",
       "13020  -0.039199  0.003162        0.008      -0.008     4.004   12.851   \n",
       "13021  -0.029962 -0.002062        0.022      -0.023     3.762   12.570   \n",
       "13022  -0.056482  0.050883       -0.036      -0.032     4.365   11.900   \n",
       "13023   0.013096  0.028659        0.059      -0.050     4.022   14.616   \n",
       "13024   0.049246  0.004728        0.109      -0.042     4.578   15.982   \n",
       "\n",
       "       min_hori  min_ver  var_hori   var_ver  \n",
       "0        -1.511   -2.045  0.162646  0.206963  \n",
       "1        -1.446   -1.685  0.152569  0.210466  \n",
       "2        -1.505   -1.872  0.153525  0.241473  \n",
       "3        -1.476   -2.033  0.172871  0.225352  \n",
       "4        -1.225   -1.690  0.149533  0.261756  \n",
       "...         ...      ...       ...       ...  \n",
       "13020    -6.815   -6.985  1.466502  3.235708  \n",
       "13021    -6.387   -8.043  1.389952  3.300033  \n",
       "13022    -6.003   -7.761  1.451063  3.535872  \n",
       "13023    -6.062   -8.082  1.574335  4.240760  \n",
       "13024    -5.862   -9.992  1.677592  4.958413  \n",
       "\n",
       "[13025 rows x 10 columns]"
      ]
     },
     "execution_count": 18,
     "metadata": {},
     "output_type": "execute_result"
    }
   ],
   "source": [
    "X"
   ]
  },
  {
   "cell_type": "code",
   "execution_count": 19,
   "id": "5a357678",
   "metadata": {},
   "outputs": [
    {
     "data": {
      "text/plain": [
       "1    9116\n",
       "0    1959\n",
       "2    1950\n",
       "Name: state, dtype: int64"
      ]
     },
     "execution_count": 19,
     "metadata": {},
     "output_type": "execute_result"
    }
   ],
   "source": [
    "Y.value_counts() #now there exists 3 labels, check for it."
   ]
  },
  {
   "cell_type": "code",
   "execution_count": 20,
   "id": "141de18b",
   "metadata": {},
   "outputs": [],
   "source": [
    "X_train, X_test, y_train, y_test = train_test_split(X, Y, test_size=0.2, random_state=2, shuffle = True) #split data"
   ]
  },
  {
   "cell_type": "code",
   "execution_count": 21,
   "id": "876afc57",
   "metadata": {},
   "outputs": [],
   "source": [
    "from sklearn import svm\n",
    "from sklearn import metrics\n",
    "from sklearn.model_selection import learning_curve\n",
    "from sklearn.svm import SVC  \n",
    "from sklearn.metrics import confusion_matrix\n",
    "import numpy as np\n",
    "from sklearn.model_selection import GridSearchCV\n",
    "from sklearn.ensemble import RandomForestClassifier\n",
    "from sklearn.ensemble import GradientBoostingClassifier\n",
    "import tensorflow as tf\n",
    "from tensorflow.keras.layers import Dense, Input, BatchNormalization,Dropout\n",
    "from tensorflow.keras.models import Model, Sequential"
   ]
  },
  {
   "cell_type": "code",
   "execution_count": 22,
   "id": "b3120beb",
   "metadata": {},
   "outputs": [],
   "source": [
    "def hyperparameter_svm(parameters):  #use gridsearch to find the optimal hyperparameters of svm model\n",
    "    svc = svm.SVC()\n",
    "    model = GridSearchCV(svc,parameters,cv=5,scoring='accuracy')\n",
    "    model.fit(X_train,y_train)\n",
    "    test_score = model.score(X_test,y_test)\n",
    "    train_score = model.score(X_train,y_train)\n",
    "    print('train_score', train_score, '\\n', 'test_score', test_score)\n",
    "    return model.best_params_"
   ]
  },
  {
   "cell_type": "code",
   "execution_count": 23,
   "id": "cd507dbd",
   "metadata": {},
   "outputs": [
    {
     "name": "stdout",
     "output_type": "stream",
     "text": [
      "train_score 0.7181381957773513 \n",
      " test_score 0.7355086372360845\n"
     ]
    }
   ],
   "source": [
    "parameters={'kernel':['rbf','sigmoid','linear','poly']} #find optimal hyperparameter 'kernel'\n",
    "best_params_svm = hyperparameter_svm(parameters)"
   ]
  },
  {
   "cell_type": "code",
   "execution_count": 24,
   "id": "095da779",
   "metadata": {},
   "outputs": [
    {
     "name": "stdout",
     "output_type": "stream",
     "text": [
      "train_score 0.787236084452975 \n",
      " test_score 0.7900191938579655\n"
     ]
    }
   ],
   "source": [
    "parameters={'kernel':[best_params_svm['kernel']], 'gamma':np.linspace(1,100,10)} #find optimal parameter 'gamma'\n",
    "best_params_svm = hyperparameter_svm(parameters)"
   ]
  },
  {
   "cell_type": "code",
   "execution_count": 25,
   "id": "61acaaab",
   "metadata": {},
   "outputs": [
    {
     "name": "stdout",
     "output_type": "stream",
     "text": [
      "train_score 0.8059500959692898 \n",
      " test_score 0.8030710172744722\n"
     ]
    }
   ],
   "source": [
    "parameters={'kernel':[best_params_svm['kernel']], 'gamma':[best_params_svm['gamma']], 'C':np.linspace(0.1,20,10)}\n",
    "#find optimal hyperparameter 'C'\n",
    "best_params_svm = hyperparameter_svm(parameters)"
   ]
  },
  {
   "cell_type": "code",
   "execution_count": 26,
   "id": "fbc3c581",
   "metadata": {},
   "outputs": [],
   "source": [
    "def svm_scores(best_params):  #print the result of the optimized model\n",
    "    C = best_params['C']\n",
    "    gamma = best_params['gamma']\n",
    "    kernel = best_params['kernel']\n",
    "    clf = svm.SVC(C = C, gamma = gamma, kernel = kernel)\n",
    "    clf.fit(X_train, y_train)\n",
    "    y_pred = clf.predict(X_test)\n",
    "    acc = metrics.accuracy_score(y_test, y_pred)\n",
    "    Confusion_matrix = confusion_matrix(y_test, y_pred)\n",
    "    sns.heatmap(Confusion_matrix,annot=True)\n",
    "    print(\"accuracy:\",  acc)"
   ]
  },
  {
   "cell_type": "code",
   "execution_count": 27,
   "id": "310e08a7",
   "metadata": {},
   "outputs": [
    {
     "name": "stdout",
     "output_type": "stream",
     "text": [
      "accuracy: 0.8030710172744722\n"
     ]
    },
    {
     "data": {
      "image/png": "[encoded data removed]",
      "text/plain": [
       "<Figure size 640x480 with 2 Axes>"
      ]
     },
     "metadata": {},
     "output_type": "display_data"
    }
   ],
   "source": [
    "svm_scores(best_params_svm) #print svm accuracy and confusion metric\n",
    "#this algorithm used to classify other label data as label '1', because the '1' data is much more than others."
   ]
  },
  {
   "cell_type": "code",
   "execution_count": 28,
   "id": "657991bf",
   "metadata": {},
   "outputs": [],
   "source": [
    "def hyperparameter_rf(parameters): #use gridsearch to find the optimal hyperparameters of rf model\n",
    "    rfc = RandomForestClassifier()\n",
    "    model1 = GridSearchCV(rfc,parameters,cv = 5, scoring='accuracy')\n",
    "    model1.fit(X_train,y_train)\n",
    "    test_score = model1.score(X_test,y_test)\n",
    "    train_score = model1.score(X_train,y_train)\n",
    "    print('train_score', train_score, '\\n', 'test_score', test_score)\n",
    "    return model1.best_params_"
   ]
  },
  {
   "cell_type": "code",
   "execution_count": 29,
   "id": "ea6f018b",
   "metadata": {},
   "outputs": [
    {
     "name": "stdout",
     "output_type": "stream",
     "text": [
      "train_score 1.0 \n",
      " test_score 0.8479846449136277\n"
     ]
    }
   ],
   "source": [
    "parameters  = {'n_estimators': range(1,101,10)} #find optimal 'n_estimators', but there exists overfitting\n",
    "best_params_rf = hyperparameter_rf(parameters)"
   ]
  },
  {
   "cell_type": "code",
   "execution_count": 30,
   "id": "0e53b7e4",
   "metadata": {},
   "outputs": [
    {
     "name": "stdout",
     "output_type": "stream",
     "text": [
      "train_score 1.0 \n",
      " test_score 0.8472168905950096\n"
     ]
    }
   ],
   "source": [
    "parameters  = {'n_estimators': [best_params_rf['n_estimators']], 'min_samples_leaf': range(1,51,10)}\n",
    "#because of overfitting, optimize 'min_samples_leaf' to reduce overfitting.\n",
    "best_params_rf = hyperparameter_rf(parameters)"
   ]
  },
  {
   "cell_type": "code",
   "execution_count": 31,
   "id": "e06bda3c",
   "metadata": {},
   "outputs": [
    {
     "name": "stdout",
     "output_type": "stream",
     "text": [
      "train_score 0.956429942418426 \n",
      " test_score 0.8514395393474088\n"
     ]
    }
   ],
   "source": [
    "parameters  = {'n_estimators': [best_params_rf['n_estimators']], \n",
    "               'min_samples_leaf': [best_params_rf['min_samples_leaf']],\n",
    "               'max_depth': range(1,21,1)}\n",
    "#find optimal hyperparameter 'max_depth'\n",
    "best_params_rf = hyperparameter_rf(parameters)"
   ]
  },
  {
   "cell_type": "code",
   "execution_count": 32,
   "id": "967d2af7",
   "metadata": {},
   "outputs": [
    {
     "name": "stdout",
     "output_type": "stream",
     "text": [
      "train_score 0.9563339731285988 \n",
      " test_score 0.8479846449136277\n"
     ]
    }
   ],
   "source": [
    "parameters  = {'n_estimators': [best_params_rf['n_estimators']], \n",
    "               'min_samples_leaf': [best_params_rf['min_samples_leaf']],\n",
    "               'max_depth': [best_params_rf['max_depth']],\n",
    "              'min_samples_split': range(2,21,1)}\n",
    "#find optimal hyperparameter 'min_samples_split'\n",
    "best_params_rf = hyperparameter_rf(parameters)"
   ]
  },
  {
   "cell_type": "code",
   "execution_count": 33,
   "id": "6c3cc34c",
   "metadata": {},
   "outputs": [
    {
     "name": "stdout",
     "output_type": "stream",
     "text": [
      "train_score 0.9673704414587332 \n",
      " test_score 0.8452975047984644\n"
     ]
    }
   ],
   "source": [
    "parameters  = {'n_estimators': [best_params_rf['n_estimators']], \n",
    "               'min_samples_leaf': [best_params_rf['min_samples_leaf']],\n",
    "               'max_depth': [best_params_rf['max_depth']],\n",
    "              'min_samples_split': [best_params_rf['min_samples_split']],\n",
    "              'max_features': range(5,21,1)}\n",
    "#find optimal hyperparameter 'max_features'\n",
    "best_params_rf = hyperparameter_rf(parameters)"
   ]
  },
  {
   "cell_type": "markdown",
   "id": "df8e7ccc",
   "metadata": {},
   "source": [
    "After consider all the possible parameters which has influence on the generative ability, the model still has a little overfitting, it's better to preprocess the whole dataset to avoid overfitting."
   ]
  },
  {
   "cell_type": "code",
   "execution_count": 34,
   "id": "10b5517a",
   "metadata": {},
   "outputs": [],
   "source": [
    "def rfc_scores(best_params): #print the result of the optimized model\n",
    "    n_estimators = best_params['n_estimators']\n",
    "    min_samples_leaf = best_params['min_samples_leaf']\n",
    "    max_depth = best_params['max_depth']\n",
    "    min_samples_split = best_params['min_samples_split']\n",
    "    max_features = best_params['max_features']\n",
    "    rfc = RandomForestClassifier(n_estimators = n_estimators,min_samples_leaf = min_samples_leaf,\n",
    "                                max_depth = max_depth, min_samples_split = min_samples_split,\n",
    "                                max_features = max_features)\n",
    "    rfc.fit(X_train, y_train)\n",
    "    y_pred = rfc.predict(X_test)\n",
    "    acc = metrics.accuracy_score(y_test, y_pred)\n",
    "    Confusion_matrix = confusion_matrix(y_test, y_pred)\n",
    "    sns.heatmap(Confusion_matrix,annot=True)\n",
    "    print(\"accuracy:\",  acc)"
   ]
  },
  {
   "cell_type": "code",
   "execution_count": 35,
   "id": "bdbcb535",
   "metadata": {},
   "outputs": [
    {
     "name": "stdout",
     "output_type": "stream",
     "text": [
      "accuracy: 0.8514395393474088\n"
     ]
    },
    {
     "data": {
      "image/png": "[encoded data removed]",
      "text/plain": [
       "<Figure size 640x480 with 2 Axes>"
      ]
     },
     "metadata": {},
     "output_type": "display_data"
    }
   ],
   "source": [
    "rfc_scores(best_params_rf) #randomforest accuracy and confusion metric"
   ]
  },
  {
   "cell_type": "code",
   "execution_count": 36,
   "id": "9e7445e6",
   "metadata": {},
   "outputs": [],
   "source": [
    "def hyperparameter_gbc(parameters): #use gridsearch to find the optimal hyperparameters of gbc model\n",
    "    gbc = GradientBoostingClassifier()\n",
    "    model = GridSearchCV(gbc,parameters,cv=5,scoring='accuracy')\n",
    "    model.fit(X_train,y_train)\n",
    "    test_score = model.score(X_test,y_test)\n",
    "    train_score = model.score(X_train,y_train)\n",
    "    print('train_score', train_score, '\\n', 'test_score', test_score)\n",
    "    return model.best_params_"
   ]
  },
  {
   "cell_type": "code",
   "execution_count": 37,
   "id": "2b443c7e",
   "metadata": {},
   "outputs": [
    {
     "name": "stdout",
     "output_type": "stream",
     "text": [
      "train_score 0.8378119001919386 \n",
      " test_score 0.8326295585412667\n"
     ]
    }
   ],
   "source": [
    "parameters = {'learning_rate':[0.01, 0.1], 'n_estimators': range(1,101,10)} #find optimal 'learning_rate' and 'n_estimators'\n",
    "best_params_gbc = hyperparameter_gbc(parameters)"
   ]
  },
  {
   "cell_type": "code",
   "execution_count": 38,
   "id": "4a1d064b",
   "metadata": {},
   "outputs": [
    {
     "name": "stdout",
     "output_type": "stream",
     "text": [
      "train_score 0.8357965451055662 \n",
      " test_score 0.8333973128598848\n"
     ]
    }
   ],
   "source": [
    "parameters = {'learning_rate':[best_params_gbc['learning_rate']], \n",
    "              'n_estimators': [best_params_gbc['n_estimators']],\n",
    "              'min_samples_leaf': range(1,51,10)}  #find optimal hyperparamter 'min_samples_leaf'\n",
    "best_params_gbc = hyperparameter_gbc(parameters)"
   ]
  },
  {
   "cell_type": "code",
   "execution_count": 39,
   "id": "95a40cd7",
   "metadata": {},
   "outputs": [],
   "source": [
    "def gbc_scores(best_params):  #print the result of the optimized gbc model\n",
    "    n_estimators = best_params['n_estimators']\n",
    "    learning_rate = best_params['learning_rate']\n",
    "    min_samples_leaf = best_params['min_samples_leaf']\n",
    "    gbc = GradientBoostingClassifier(n_estimators = n_estimators, learning_rate = learning_rate, \n",
    "                                     min_samples_leaf = min_samples_leaf)\n",
    "    gbc.fit(X_train, y_train)\n",
    "    y_pred = gbc.predict(X_test)\n",
    "    acc = metrics.accuracy_score(y_test, y_pred)\n",
    "    Confusion_matrix = confusion_matrix(y_test, y_pred)\n",
    "    sns.heatmap(Confusion_matrix,annot=True)\n",
    "    print(\"accuracy:\",  acc)"
   ]
  },
  {
   "cell_type": "code",
   "execution_count": 40,
   "id": "c09b38df",
   "metadata": {},
   "outputs": [
    {
     "name": "stdout",
     "output_type": "stream",
     "text": [
      "accuracy: 0.8322456813819578\n"
     ]
    },
    {
     "data": {
      "image/png": "[encoded data removed]",
      "text/plain": [
       "<Figure size 640x480 with 2 Axes>"
      ]
     },
     "metadata": {},
     "output_type": "display_data"
    }
   ],
   "source": [
    "gbc_scores(best_params_gbc) #gbc accuracy and confusion metric"
   ]
  },
  {
   "cell_type": "code",
   "execution_count": 45,
   "id": "92bead92",
   "metadata": {},
   "outputs": [],
   "source": [
    "def nn_model(X_train, y_train, X_test, y_test): #define the structure of nn model using keras model\n",
    "    input_shape = X_train.shape[1]\n",
    "    input = Input(shape = (input_shape, ))\n",
    "    x = Dense(1024, activation = 'relu')(input)\n",
    "    x = Dense(512, activation = 'relu')(x)\n",
    "    x = Dense(256, activation = 'relu')(x)\n",
    "    x = Dense(32, activation = 'relu')(x)\n",
    "    x = Dense(16, activation = 'relu')(x)\n",
    "    x = Dense(8, activation = 'tanh')(x)\n",
    "    output = Dense(3, activation = 'softmax')(x)\n",
    "    \n",
    "    nn = Model(input,output)\n",
    "    nn.compile(optimizer = tf.keras.optimizers.Adam(lr = 1e-3), \n",
    "               loss= 'sparse_categorical_crossentropy', metrics = ['acc'])\n",
    "    nn.fit(X_train, y_train, epochs = 30, batch_size = 24, shuffle =True,validation_data = (X_test, y_test))\n",
    "    return nn"
   ]
  },
  {
   "cell_type": "code",
   "execution_count": 46,
   "id": "a6888ef7",
   "metadata": {},
   "outputs": [
    {
     "name": "stdout",
     "output_type": "stream",
     "text": [
      "Epoch 1/30\n"
     ]
    },
    {
     "name": "stderr",
     "output_type": "stream",
     "text": [
      "/Users/njxwq/miniforge3/envs/ms01/lib/python3.9/site-packages/keras/optimizers/optimizer_v2/adam.py:114: UserWarning: The `lr` argument is deprecated, use `learning_rate` instead.\n",
      "  super().__init__(name, **kwargs)\n"
     ]
    },
    {
     "name": "stdout",
     "output_type": "stream",
     "text": [
      "  7/435 [..............................] - ETA: 3s - loss: 1.0147 - acc: 0.5893  "
     ]
    },
    {
     "name": "stderr",
     "output_type": "stream",
     "text": [
      "2023-02-15 15:43:02.767085: I tensorflow/core/grappler/optimizers/custom_graph_optimizer_registry.cc:114] Plugin optimizer for device_type GPU is enabled.\n"
     ]
    },
    {
     "name": "stdout",
     "output_type": "stream",
     "text": [
      "435/435 [==============================] - ETA: 0s - loss: 0.8058 - acc: 0.6956"
     ]
    },
    {
     "name": "stderr",
     "output_type": "stream",
     "text": [
      "2023-02-15 15:43:06.336873: I tensorflow/core/grappler/optimizers/custom_graph_optimizer_registry.cc:114] Plugin optimizer for device_type GPU is enabled.\n"
     ]
    },
    {
     "name": "stdout",
     "output_type": "stream",
     "text": [
      "435/435 [==============================] - 4s 9ms/step - loss: 0.8058 - acc: 0.6956 - val_loss: 0.7424 - val_acc: 0.7125\n",
      "Epoch 2/30\n",
      "435/435 [==============================] - 4s 8ms/step - loss: 0.7544 - acc: 0.6999 - val_loss: 0.6845 - val_acc: 0.7290\n",
      "Epoch 3/30\n",
      "435/435 [==============================] - 4s 8ms/step - loss: 0.7085 - acc: 0.7177 - val_loss: 0.6740 - val_acc: 0.7424\n",
      "Epoch 4/30\n",
      "435/435 [==============================] - 4s 8ms/step - loss: 0.6534 - acc: 0.7413 - val_loss: 0.7179 - val_acc: 0.7693\n",
      "Epoch 5/30\n",
      "435/435 [==============================] - 4s 8ms/step - loss: 0.6228 - acc: 0.7608 - val_loss: 0.5725 - val_acc: 0.7846\n",
      "Epoch 6/30\n",
      "435/435 [==============================] - 4s 8ms/step - loss: 0.6229 - acc: 0.7535 - val_loss: 0.5700 - val_acc: 0.7862\n",
      "Epoch 7/30\n",
      "435/435 [==============================] - 4s 8ms/step - loss: 0.6011 - acc: 0.7670 - val_loss: 0.5374 - val_acc: 0.7912\n",
      "Epoch 8/30\n",
      "435/435 [==============================] - 4s 8ms/step - loss: 0.5864 - acc: 0.7705 - val_loss: 0.5478 - val_acc: 0.7912\n",
      "Epoch 9/30\n",
      "435/435 [==============================] - 4s 8ms/step - loss: 0.5823 - acc: 0.7716 - val_loss: 0.5448 - val_acc: 0.7927\n",
      "Epoch 10/30\n",
      "435/435 [==============================] - 4s 8ms/step - loss: 0.5806 - acc: 0.7744 - val_loss: 0.5427 - val_acc: 0.7869\n",
      "Epoch 11/30\n",
      "435/435 [==============================] - 4s 8ms/step - loss: 0.5655 - acc: 0.7782 - val_loss: 0.5156 - val_acc: 0.8081\n",
      "Epoch 12/30\n",
      "435/435 [==============================] - 4s 8ms/step - loss: 0.5535 - acc: 0.7813 - val_loss: 0.5300 - val_acc: 0.7988\n",
      "Epoch 13/30\n",
      "435/435 [==============================] - 4s 8ms/step - loss: 0.5487 - acc: 0.7817 - val_loss: 0.5598 - val_acc: 0.7889\n",
      "Epoch 14/30\n",
      "435/435 [==============================] - 4s 8ms/step - loss: 0.5532 - acc: 0.7808 - val_loss: 0.4996 - val_acc: 0.8081\n",
      "Epoch 15/30\n",
      "435/435 [==============================] - 4s 8ms/step - loss: 0.5390 - acc: 0.7864 - val_loss: 0.5016 - val_acc: 0.8050\n",
      "Epoch 16/30\n",
      "435/435 [==============================] - 4s 8ms/step - loss: 0.5329 - acc: 0.7863 - val_loss: 0.5503 - val_acc: 0.7774\n",
      "Epoch 17/30\n",
      "435/435 [==============================] - 4s 8ms/step - loss: 0.5313 - acc: 0.7856 - val_loss: 0.4893 - val_acc: 0.8088\n",
      "Epoch 18/30\n",
      "435/435 [==============================] - 4s 8ms/step - loss: 0.5282 - acc: 0.7890 - val_loss: 0.5009 - val_acc: 0.8061\n",
      "Epoch 19/30\n",
      "435/435 [==============================] - 4s 8ms/step - loss: 0.5239 - acc: 0.7895 - val_loss: 0.4955 - val_acc: 0.8146\n",
      "Epoch 20/30\n",
      "435/435 [==============================] - 4s 8ms/step - loss: 0.5220 - acc: 0.7891 - val_loss: 0.5271 - val_acc: 0.7866\n",
      "Epoch 21/30\n",
      "435/435 [==============================] - 4s 8ms/step - loss: 0.5218 - acc: 0.7914 - val_loss: 0.4898 - val_acc: 0.8081\n",
      "Epoch 22/30\n",
      "435/435 [==============================] - 4s 8ms/step - loss: 0.5204 - acc: 0.7887 - val_loss: 0.5092 - val_acc: 0.7985\n",
      "Epoch 23/30\n",
      "435/435 [==============================] - 4s 8ms/step - loss: 0.5127 - acc: 0.7914 - val_loss: 0.4888 - val_acc: 0.8073\n",
      "Epoch 24/30\n",
      "435/435 [==============================] - 4s 8ms/step - loss: 0.5061 - acc: 0.7917 - val_loss: 0.5014 - val_acc: 0.8031\n",
      "Epoch 25/30\n",
      "435/435 [==============================] - 4s 8ms/step - loss: 0.5081 - acc: 0.7929 - val_loss: 0.4881 - val_acc: 0.8073\n",
      "Epoch 26/30\n",
      "435/435 [==============================] - 4s 8ms/step - loss: 0.5014 - acc: 0.7916 - val_loss: 0.4866 - val_acc: 0.8058\n",
      "Epoch 27/30\n",
      "435/435 [==============================] - 4s 8ms/step - loss: 0.4990 - acc: 0.7953 - val_loss: 0.4822 - val_acc: 0.7977\n",
      "Epoch 28/30\n",
      "435/435 [==============================] - 4s 8ms/step - loss: 0.4946 - acc: 0.7975 - val_loss: 0.4879 - val_acc: 0.7962\n",
      "Epoch 29/30\n",
      "435/435 [==============================] - 4s 8ms/step - loss: 0.4925 - acc: 0.7964 - val_loss: 0.4737 - val_acc: 0.8096\n",
      "Epoch 30/30\n",
      "435/435 [==============================] - 4s 8ms/step - loss: 0.4968 - acc: 0.7962 - val_loss: 0.5057 - val_acc: 0.8031\n"
     ]
    }
   ],
   "source": [
    "nn = nn_model(X_train, y_train, X_test, y_test) #training the model"
   ]
  },
  {
   "cell_type": "code",
   "execution_count": 47,
   "id": "2ec59625",
   "metadata": {},
   "outputs": [],
   "source": [
    "def nn_scores(nn):  #print the result of the optimized nn model\n",
    "    y_pred = nn.predict(X_test)\n",
    "    y_pred = np.argmax(y_pred, axis = 1)\n",
    "    acc = metrics.accuracy_score(y_test, y_pred)\n",
    "    Confusion_matrix = confusion_matrix(y_test, y_pred)\n",
    "    sns.heatmap(Confusion_matrix,annot=True)\n",
    "    print(\"accuracy:\",  acc)"
   ]
  },
  {
   "cell_type": "code",
   "execution_count": 48,
   "id": "4ccc73dc",
   "metadata": {},
   "outputs": [
    {
     "name": "stdout",
     "output_type": "stream",
     "text": [
      "71/82 [========================>.....] - ETA: 0s"
     ]
    },
    {
     "name": "stderr",
     "output_type": "stream",
     "text": [
      "2023-02-15 15:44:52.447429: I tensorflow/core/grappler/optimizers/custom_graph_optimizer_registry.cc:114] Plugin optimizer for device_type GPU is enabled.\n"
     ]
    },
    {
     "name": "stdout",
     "output_type": "stream",
     "text": [
      "82/82 [==============================] - 0s 2ms/step\n",
      "accuracy: 0.8030710172744722\n"
     ]
    },
    {
     "data": {
      "image/png": "[encoded data removed]",
      "text/plain": [
       "<Figure size 640x480 with 2 Axes>"
      ]
     },
     "metadata": {},
     "output_type": "display_data"
    }
   ],
   "source": [
    "nn_scores(nn) #neuron network accuracy and confusion metric"
   ]
  },
  {
   "cell_type": "markdown",
   "id": "e7c1be96",
   "metadata": {},
   "source": [
    "When the number label is 3(0,1,2) now, it will be more hard for classifier to predict data correctly.\n",
    "The accuracy of many classifiers is only about 81%, except randomforest classifier.\n",
    "Randomforest classifier performs much better than other algorithms.\n",
    "In order to deal with this problem and improve the accuracy of classifiers, more training data should be added and balanced. Or more features of data should be considered."
   ]
  },
  {
   "cell_type": "code",
   "execution_count": null,
   "id": "a897804d",
   "metadata": {},
   "outputs": [],
   "source": []
  }
 ],
 "metadata": {
  "kernelspec": {
   "display_name": "Python 3 (ipykernel)",
   "language": "python",
   "name": "python3"
  },
  "language_info": {
   "codemirror_mode": {
    "name": "ipython",
    "version": 3
   },
   "file_extension": ".py",
   "mimetype": "text/x-python",
   "name": "python",
   "nbconvert_exporter": "python",
   "pygments_lexer": "ipython3",
   "version": "3.9.0"
  }
 },
 "nbformat": 4,
 "nbformat_minor": 5
}
